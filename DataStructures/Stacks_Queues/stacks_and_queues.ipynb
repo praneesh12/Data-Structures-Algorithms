{
 "cells": [
  {
   "cell_type": "markdown",
   "metadata": {},
   "source": [
    "# Stacks \n",
    "\n",
    "1. Push\n",
    "2. Pop\n",
    "3. isEmpty\n",
    "4. Top\n",
    "5. Size\n"
   ]
  },
  {
   "cell_type": "code",
   "execution_count": 236,
   "metadata": {},
   "outputs": [],
   "source": [
    "class myStack():\n",
    "    def __init__(self):\n",
    "        self.stack_list = []\n",
    "    \n",
    "    def is_empty(self):\n",
    "        if len(self.stack_list)==0:\n",
    "            return True\n",
    "        else:\n",
    "            return False\n",
    "    \n",
    "    def top(self):\n",
    "        if self.is_empty():\n",
    "            return None\n",
    "        else:\n",
    "            return self.stack_list[-1]\n",
    "    \n",
    "    def size(self):\n",
    "        return len(self.stack_list)\n",
    "    \n",
    "    def push(self, element):\n",
    "        self.stack_list.append(element)\n",
    "        return\n",
    "    \n",
    "    def pop(self):\n",
    "        return self.stack_list.pop()\n",
    "    \n",
    "    def print_stack(self):\n",
    "        print(self.stack_list)\n",
    "    \n",
    "    \n",
    "        \n",
    "        \n",
    "#         if self.is_empty():\n",
    "#             self.stack_list.append(element)\n",
    "#         else:\n",
    "#             self.stack_list\n",
    "    \n"
   ]
  },
  {
   "cell_type": "code",
   "execution_count": 186,
   "metadata": {},
   "outputs": [
    {
     "name": "stdout",
     "output_type": "stream",
     "text": [
      "Top element: 5\n",
      "[5]\n",
      "None\n",
      "[5, 4, 3]\n",
      "None\n",
      "Top element: 3\n",
      "[5, 4]\n",
      "None\n",
      "[5]\n",
      "None\n",
      "pop1-> 3 pop2-> 4\n"
     ]
    }
   ],
   "source": [
    "stack = myStack()\n",
    "stack.is_empty()\n",
    "stack.push(5)\n",
    "print(f\"Top element: {stack.top()}\")\n",
    "print(stack.print_stack())\n",
    "stack.push(4)\n",
    "stack.push(3)\n",
    "print(stack.print_stack())\n",
    "print(f\"Top element: {stack.top()}\")\n",
    "pop1 = stack.pop()\n",
    "print(stack.print_stack())\n",
    "pop2 = stack.pop()\n",
    "print(stack.print_stack())\n",
    "\n",
    "print(\"pop1->\",pop1, \"pop2->\",pop2)"
   ]
  },
  {
   "cell_type": "markdown",
   "metadata": {},
   "source": [
    "---"
   ]
  },
  {
   "cell_type": "markdown",
   "metadata": {},
   "source": [
    "# Queues "
   ]
  },
  {
   "cell_type": "code",
   "execution_count": 221,
   "metadata": {},
   "outputs": [],
   "source": [
    "class myQueue():\n",
    "    def __init__(self):\n",
    "        self.queue_list = []\n",
    "    \n",
    "    def isEmpty(self):\n",
    "        return len(self.queue_list) == 0\n",
    "    \n",
    "    def size(self):\n",
    "        return len(self.queue_list)\n",
    "    \n",
    "    def front(self):\n",
    "        if self.isEmpty():\n",
    "            return None\n",
    "        else:\n",
    "            return self.queue_list[0]\n",
    "    \n",
    "    def back(self):\n",
    "        if self.isEmpty():\n",
    "            return None\n",
    "        else:\n",
    "            return self.queue_list[-1]\n",
    "    \n",
    "    def enqueue(self, element):\n",
    "        self.queue_list.append(element)\n",
    "\n",
    "    \n",
    "    def dequeue(self):\n",
    "        if self.isEmpty():\n",
    "            return None\n",
    "        else:\n",
    "            front = self.front()\n",
    "            self.queue_list.remove(front)\n",
    "        return front\n",
    "    \n",
    "    def print_queue(self):\n",
    "        print(self.queue_list)\n",
    "    \n",
    "    "
   ]
  },
  {
   "cell_type": "code",
   "execution_count": 222,
   "metadata": {},
   "outputs": [
    {
     "name": "stdout",
     "output_type": "stream",
     "text": [
      "\n",
      "*************\n",
      "Queue after intering 5 elements\n",
      "[0, 1, 2, 3, 4]\n",
      "[1, 2, 3, 4]\n",
      "\n",
      "*************\n",
      " Performing second dequeue operation\n",
      "[2, 3, 4]\n",
      "\n",
      "*************\n",
      " Performing third dequeue operation\n",
      "[3, 4]\n",
      "\n",
      "*************\n",
      " Performing fourth dequeue operation\n",
      "[4]\n",
      "\n",
      "*************\n",
      " Performing fifth dequeue operation\n",
      "[]\n"
     ]
    }
   ],
   "source": [
    "q = myQueue()\n",
    "q.isEmpty()\n",
    "for i in range(5):\n",
    "    q.enqueue(i)\n",
    "print(\"\\n*************\\nQueue after intering 5 elements\")    \n",
    "q.print_queue()\n",
    "q.dequeue()\n",
    "q.print_queue()\n",
    "\n",
    "print(\"\\n*************\\n Performing second dequeue operation\") \n",
    "q.dequeue()\n",
    "q.print_queue()\n",
    "\n",
    "\n",
    "print(\"\\n*************\\n Performing third dequeue operation\") \n",
    "q.dequeue()\n",
    "q.print_queue()\n",
    "\n",
    "print(\"\\n*************\\n Performing fourth dequeue operation\") \n",
    "q.dequeue()\n",
    "q.print_queue()\n",
    "\n",
    "print(\"\\n*************\\n Performing fifth dequeue operation\") \n",
    "q.dequeue()\n",
    "q.print_queue()\n"
   ]
  },
  {
   "cell_type": "markdown",
   "metadata": {},
   "source": [
    "---"
   ]
  },
  {
   "cell_type": "markdown",
   "metadata": {},
   "source": [
    "# Find binary of input number\n",
    "\n",
    "``` python\n",
    "n = 2\n",
    "output = [\"1\",\"10\"]\n",
    "\n",
    "n = 3\n",
    "output = [\"1\",\"10\",\"11\"]\n",
    "\n",
    "n = 4\n",
    "output = [\"1\", \"10\", \"11\", \"100\"]\n",
    "\n",
    "n = 5\n",
    "output = [\"1\", \"10\", \"11\", \"100\", \"101\"]\n",
    "\n",
    "n = 7\n",
    "output = [\"1\", \"10\", \"11\", \"100\", \"101\", \"1000\", \"1001\"]\n",
    "```\n",
    "\n"
   ]
  },
  {
   "cell_type": "code",
   "execution_count": 223,
   "metadata": {},
   "outputs": [
    {
     "name": "stdout",
     "output_type": "stream",
     "text": [
      "\n",
      "****Iter:0*****\n",
      "from_queue -> 1\n",
      "inserting 1 to result\n",
      "['10', '11']\n",
      "\n",
      "****Iter:1*****\n",
      "from_queue -> 10\n",
      "inserting 10 to result\n",
      "['11', '100', '101']\n",
      "\n",
      "****Iter:2*****\n",
      "from_queue -> 11\n",
      "inserting 11 to result\n",
      "['100', '101', '110', '111']\n",
      "\n",
      "****Iter:3*****\n",
      "from_queue -> 100\n",
      "inserting 100 to result\n",
      "['101', '110', '111', '1000', '1001']\n",
      "\n",
      "****Iter:4*****\n",
      "from_queue -> 101\n",
      "inserting 101 to result\n",
      "['110', '111', '1000', '1001', '1010', '1011']\n"
     ]
    }
   ],
   "source": [
    "n = 5\n",
    "queue = myQueue()\n",
    "queue.enqueue(1)\n",
    "result = []\n",
    "\n",
    "for i in range(n):\n",
    "    print(f\"\\n****Iter:{i}*****\")\n",
    "    from_queue = queue.dequeue()\n",
    "    print(f\"from_queue -> {from_queue}\")\n",
    "    print(f\"inserting {from_queue} to result\")\n",
    "    result.append(str(from_queue))\n",
    "    n1 = result[i] + \"0\"\n",
    "    n2 = result[i] + \"1\"\n",
    "    queue.enqueue(n1)\n",
    "    queue.enqueue(n2)\n",
    "    queue.print_queue()\n",
    "  "
   ]
  },
  {
   "cell_type": "code",
   "execution_count": 224,
   "metadata": {},
   "outputs": [
    {
     "data": {
      "text/plain": [
       "['1', '10', '11', '100', '101']"
      ]
     },
     "execution_count": 224,
     "metadata": {},
     "output_type": "execute_result"
    }
   ],
   "source": [
    "result"
   ]
  },
  {
   "cell_type": "markdown",
   "metadata": {},
   "source": [
    "# Reverse first k elements of a queue \n"
   ]
  },
  {
   "cell_type": "code",
   "execution_count": 225,
   "metadata": {},
   "outputs": [
    {
     "name": "stdout",
     "output_type": "stream",
     "text": [
      "[1, 2, 3, 4, 5, 6, 7, 8, 9, 10]\n",
      "[6, 7, 8, 9, 10]\n",
      "[6, 7, 8, 9, 10, 5, 4, 3, 2, 1]\n",
      "[5, 4, 3, 2, 1, 6, 7, 8, 9, 10]\n"
     ]
    }
   ],
   "source": [
    "queue = myQueue()\n",
    "\n",
    "for i in range(10):\n",
    "    queue.enqueue(i+1)\n",
    "queue.print_queue()\n",
    "k = 5\n",
    "\n",
    "stack = myStack()\n",
    "\n",
    "while k>0:\n",
    "    val = queue.dequeue()\n",
    "    stack.push(val)\n",
    "    k-=1\n",
    "queue.print_queue()\n",
    "k=5\n",
    "while k>0:\n",
    "    val=stack.pop()\n",
    "    queue.enqueue(val)\n",
    "    k-=1\n",
    "\n",
    "queue.print_queue()\n",
    "k=4\n",
    "while k>0:\n",
    "    queue.enqueue(queue.dequeue())\n",
    "    k-=1 \n",
    "queue.enqueue(queue.dequeue())\n",
    "\n",
    "queue.print_queue()"
   ]
  },
  {
   "cell_type": "code",
   "execution_count": 226,
   "metadata": {},
   "outputs": [
    {
     "name": "stdout",
     "output_type": "stream",
     "text": [
      "****Queue****\n",
      "[-1, -3, 100, 2]\n",
      "Reversing fist k elements of the queue\n",
      "\n",
      "Reversed k Queue\n",
      "[-3, -1, 100, 2]\n"
     ]
    }
   ],
   "source": [
    "def reverseKQueue(queue, k):\n",
    "    if queue.isEmpty():\n",
    "        return None\n",
    "    \n",
    "    stack = myStack()\n",
    "    for i in range(k):\n",
    "        stack.push(queue.dequeue())\n",
    "    \n",
    "    while stack.is_empty() is False:\n",
    "        queue.enqueue(stack.pop())\n",
    "    \n",
    "    size = queue.size()\n",
    "    for i in range(size - k):\n",
    "        queue.enqueue(queue.dequeue())\n",
    "    \n",
    "    return queue\n",
    "\n",
    "l=[-1, -3, 100, 2]\n",
    "# Prepare queue\n",
    "queue = myQueue()\n",
    "for i in range(len(l)):\n",
    "    queue.enqueue(l[i])\n",
    "print(\"****Queue****\")\n",
    "queue.print_queue()\n",
    "\n",
    "print(\"Reversing fist k elements of the queue\\n\")\n",
    "# Reverse first k elements of the queue\n",
    "queue = reverseKQueue(queue,k=2)\n",
    "print(\"Reversed k Queue\")\n",
    "queue.print_queue()"
   ]
  },
  {
   "cell_type": "markdown",
   "metadata": {},
   "source": [
    "# Sort stack"
   ]
  },
  {
   "cell_type": "code",
   "execution_count": 227,
   "metadata": {},
   "outputs": [
    {
     "name": "stdout",
     "output_type": "stream",
     "text": [
      "*********Stack before sorting*********\n",
      "[23, 60, 12, 42, 4, 97, 2]\n",
      "*********Stack after sorting*********\n",
      "[97, 60, 42, 23, 12, 4, 2]\n"
     ]
    }
   ],
   "source": [
    "def sortStack(stack):\n",
    "    \n",
    "    if stack.is_empty():\n",
    "        return None\n",
    "    \n",
    "    temp_array = []\n",
    "    \n",
    "    while stack.is_empty() is False:\n",
    "        temp_array.append(stack.pop())\n",
    "        \n",
    "    temp_array.sort()\n",
    "    \n",
    "    for num in reversed(temp_array):\n",
    "        stack.push(num)\n",
    "    \n",
    "    return stack\n",
    "\n",
    "        \n",
    "newStack = myStack()\n",
    "newStack.push(23)\n",
    "newStack.push(60)\n",
    "newStack.push(12)\n",
    "newStack.push(42)\n",
    "newStack.push(4)\n",
    "newStack.push(97)\n",
    "newStack.push(2)\n",
    "\n",
    "print(\"*********Stack before sorting*********\")\n",
    "newStack.print_stack()\n",
    "newStack = sortStack(newStack)\n",
    "print(\"*********Stack after sorting*********\")\n",
    "newStack.print_stack()\n"
   ]
  },
  {
   "cell_type": "markdown",
   "metadata": {},
   "source": [
    "---"
   ]
  },
  {
   "cell_type": "markdown",
   "metadata": {},
   "source": [
    "# Check Balanced Paranthesis\n",
    "\n",
    "``` python\n",
    "    exp = \"{[({})]}\"\n",
    "    True\n",
    "```\n",
    "\n",
    "There are three types of paranthesis, `\"[]\", \"()\" and \"{}\"`\n",
    "> Order of paranthesis matter"
   ]
  },
  {
   "cell_type": "code",
   "execution_count": 233,
   "metadata": {},
   "outputs": [
    {
     "data": {
      "text/plain": [
       "True"
      ]
     },
     "execution_count": 233,
     "metadata": {},
     "output_type": "execute_result"
    }
   ],
   "source": [
    "brackets = {}\n",
    "brackets['{']='}'\n",
    "brackets['}']='{'\n",
    "brackets['[']=']'\n",
    "brackets[']']='['\n",
    "brackets['(']=')'\n",
    "brackets[')']='('\n",
    "\n",
    "\n",
    "s = \"{[({})]}\"\n",
    "\n",
    "# If the length of the bracket string is oddd \n",
    "# Return None (odd number of brackets won't be in closed pairs)\n",
    "\n",
    "first = ['{', '[', '(' ]\n",
    "last = ['}', ')', ']' ]\n",
    "\n",
    "def check_balanced_paranthesis(s):\n",
    "    d = {}\n",
    "    for i in range(len(s)):\n",
    "        if s[i] not in d:\n",
    "            d[s[i]]=1\n",
    "        else:\n",
    "            d[s[i]]+=1\n",
    "\n",
    "    # for k,v in d:\n",
    "\n",
    "    if (d['{'] == d['}'] and d['('] == d[')'] and d['[']==d[']']):\n",
    "        return True\n",
    "    return False\n",
    "    \n",
    "        \n",
    "        \n",
    "s = '{{([)]}}'\n",
    "check_balanced_paranthesis(s)"
   ]
  },
  {
   "cell_type": "code",
   "execution_count": 250,
   "metadata": {},
   "outputs": [
    {
     "data": {
      "text/plain": [
       "True"
      ]
     },
     "execution_count": 250,
     "metadata": {},
     "output_type": "execute_result"
    }
   ],
   "source": [
    "def check_paranthesis(s):\n",
    "    stack = myStack()\n",
    "    closing = ['}', ']', ')']\n",
    "    for char in s:\n",
    "        if char in closing:\n",
    "            if stack.is_empty():\n",
    "                return False\n",
    "            \n",
    "            if char == '}' and stack.top() != '{':\n",
    "                return False\n",
    "            elif char == ']' and stack.top() != '[':\n",
    "                return False\n",
    "            elif char == ')' and stack.top() != '(':\n",
    "                return False\n",
    "            else:\n",
    "                stack.pop()\n",
    "        else:\n",
    "            stack.push(char)\n",
    "            \n",
    "    if stack.is_empty():\n",
    "        return True\n",
    "    return False\n",
    "\n",
    "s = '{{([{{[]}}])}}'\n",
    "check_paranthesis(s)"
   ]
  },
  {
   "cell_type": "code",
   "execution_count": 264,
   "metadata": {},
   "outputs": [
    {
     "data": {
      "text/plain": [
       "False"
      ]
     },
     "execution_count": 264,
     "metadata": {},
     "output_type": "execute_result"
    }
   ],
   "source": [
    "def check_paranthesis(s):\n",
    "    stack = myStack()\n",
    "    closing = {'}':'{', ']':'[', ')':'('}\n",
    "    for char in s:\n",
    "        if char in closing:\n",
    "            if stack.is_empty():\n",
    "                return False\n",
    "            \n",
    "            if closing[char] != stack.top():\n",
    "                return False\n",
    "            stack.pop()\n",
    "        else:\n",
    "            stack.push(char)\n",
    "            \n",
    "    if stack.is_empty():\n",
    "        return True\n",
    "    return False\n",
    "\n",
    "s = '{[({{[({[([(([{})))]]]]]]}}}}}}]}}]))])]})]}})]}'\n",
    "check_paranthesis(s)"
   ]
  },
  {
   "cell_type": "markdown",
   "metadata": {},
   "source": [
    "---"
   ]
  },
  {
   "cell_type": "markdown",
   "metadata": {},
   "source": [
    "# Implement MinStack class using existing myStack class"
   ]
  },
  {
   "cell_type": "code",
   "execution_count": 297,
   "metadata": {},
   "outputs": [
    {
     "name": "stdout",
     "output_type": "stream",
     "text": [
      "[5, 2, 0]\n",
      "[5, 2, 4, 1, 3, 0]\n",
      "[5, 2, 4, 1, 3, 0, 0]\n",
      "minimum value: 0\n",
      "minimum value: 0\n"
     ]
    }
   ],
   "source": [
    "# Create Stack => stack = myStack(5); where 5 is size of stack\n",
    "# Create Queue => queue = myQueue(5); where 5 is size of queue\n",
    "# Stack Functions => isEmpty(), isFull(), top()\n",
    "# Queue Functions => enqueue(int),dequeue(),isEmpty(),getSize()\n",
    "\n",
    "class MinStack:\n",
    "    # Constructor\n",
    "    def __init__(self):\n",
    "        # Write your code here\n",
    "        self.min_stack = myStack()\n",
    "#         self.main_stack = myStack()\n",
    "        \n",
    "        \n",
    "        # Removes and return value from newStack\n",
    "    def pop(self):\n",
    "        # Write your code here\n",
    "        if self.min_stack.is_empty():\n",
    "            return False\n",
    "        return self.min_stack.pop()\n",
    "\n",
    "        # Pushes values into newStack\n",
    "    def push(self, value):\n",
    "        # Write your code here\n",
    "        \n",
    "        if self.min_stack.is_empty() or self.min_stack.top() > value:\n",
    "            self.min_stack.push(value)\n",
    "\n",
    "        else:\n",
    "            minVal = self.min_stack.pop()\n",
    "            self.min_stack.push(value)\n",
    "            self.min_stack.push(minVal)\n",
    "\n",
    "        # Returns minimum value from newStack in O(1) Time\n",
    "    def min(self):\n",
    "        # Write your code here\n",
    "        if self.min_stack.is_empty():\n",
    "            return None\n",
    "        return self.min_stack.top()\n",
    "    \n",
    "    def print_stack(self):\n",
    "        print(self.min_stack.print_stack())\n",
    "    \n",
    "stack = MinStack()\n",
    "stack.push(5)\n",
    "stack.push(0)\n",
    "stack.push(2)\n",
    "stack.min_stack.print_stack()\n",
    "stack.push(4)\n",
    "stack.push(1)\n",
    "stack.push(3)\n",
    "stack.min_stack.print_stack()\n",
    "stack.push(0)\n",
    "\n",
    "stack.min_stack.print_stack()\n",
    "# stack.main_stack.print_stack()\n",
    "print(\"minimum value: \" + str(stack.min()))\n",
    "\n",
    "stack.pop()\n",
    "# print(stack.main_stack.stack_list)\n",
    "print(\"minimum value: \" + str(stack.min()))"
   ]
  },
  {
   "cell_type": "code",
   "execution_count": 280,
   "metadata": {},
   "outputs": [
    {
     "name": "stdout",
     "output_type": "stream",
     "text": [
      "[]\n",
      "None\n"
     ]
    }
   ],
   "source": [
    "min_stack.print_stack()"
   ]
  },
  {
   "cell_type": "code",
   "execution_count": null,
   "metadata": {},
   "outputs": [],
   "source": []
  }
 ],
 "metadata": {
  "kernelspec": {
   "display_name": "Python 3",
   "language": "python",
   "name": "python3"
  },
  "language_info": {
   "codemirror_mode": {
    "name": "ipython",
    "version": 3
   },
   "file_extension": ".py",
   "mimetype": "text/x-python",
   "name": "python",
   "nbconvert_exporter": "python",
   "pygments_lexer": "ipython3",
   "version": "3.7.5"
  }
 },
 "nbformat": 4,
 "nbformat_minor": 4
}
