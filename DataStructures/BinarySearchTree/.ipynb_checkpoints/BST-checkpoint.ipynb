{
 "cells": [
  {
   "cell_type": "markdown",
   "metadata": {},
   "source": [
    "# Implement a Binary Search Tree\n",
    "\n",
    ">* Binary Search Tree Insertion Algorithm #\n",
    "Here is a description of the algorithm you’d use to insert a new value into a BST.\n",
    "\n",
    ">* Start from the root node\n",
    ">* Check if the value to be inserted is greater than the root/current node’s value\n",
    ">* If yes, then repeat the steps above for the right subtree, otherwise repeat the steps above for the left sub-tree of the current node.\n",
    ">* Repeat until you find a node that has no right/left child to move onto. Insert the given value there and update the parent node accordingly.\n",
    "\n",
    "Always check following condition holds true while inserting elements in a tree.\n",
    "\n",
    "**`NodeValues(leftsubtree) <= CurrentNodeValue < NodeValues(rightsubtree)`**"
   ]
  },
  {
   "cell_type": "code",
   "execution_count": 4,
   "metadata": {},
   "outputs": [],
   "source": [
    "class Node:\n",
    "    def __init__(self, val):\n",
    "        self.val=val\n",
    "        self.leftChild=None\n",
    "        self.rightChild=None\n",
    "        self.parent=None\n",
    "    \n",
    "    def insert(self, val):\n",
    "        current = self   \n",
    "        parent = None\n",
    "        \n",
    "        while current:\n",
    "            parent = current\n",
    "            if val < current.val:\n",
    "                current = current.leftChild\n",
    "            elif val > current.val:\n",
    "                current = current.rightChild\n",
    "            else:\n",
    "                return\n",
    "            \n",
    "        if val<parent.val:\n",
    "            parent.leftChild = Node(val)\n",
    "        else:\n",
    "            parent.rightChild = Node(val)\n",
    "            \n",
    "    \n",
    "class BinarySearchTree:\n",
    "    def __init__(self, val):\n",
    "        self.root=Node(val) # Initializes a root node\n",
    "    \n",
    "    def insert(self, val):\n",
    "        if self.root:\n",
    "            return self.root.insert(val)\n",
    "        else:\n",
    "            self.root = Node(val)\n",
    "            return True\n",
    "        \n",
    "        "
   ]
  },
  {
   "cell_type": "code",
   "execution_count": 5,
   "metadata": {},
   "outputs": [],
   "source": [
    "bst1 = BinarySearchTree(6)\n",
    "bst1.insert(5)\n",
    "bst1.insert(2)\n",
    "bst1.insert(8)\n",
    "bst1.insert(20)\n"
   ]
  },
  {
   "cell_type": "code",
   "execution_count": 6,
   "metadata": {},
   "outputs": [
    {
     "name": "stdout",
     "output_type": "stream",
     "text": [
      "Inserting 1:\n",
      " 20\n",
      "/  \n",
      "1  \n",
      "Inserting 1:\n",
      " 20\n",
      "/  \n",
      "1  \n",
      "Inserting 4:\n",
      " _20\n",
      "/   \n",
      "1   \n",
      " \\  \n",
      " 4  \n",
      "Inserting 9:\n",
      " __20\n",
      "/    \n",
      "1    \n",
      " \\   \n",
      " 4   \n",
      "  \\  \n",
      "  9  \n",
      "Inserting 1:\n",
      " __20\n",
      "/    \n",
      "1    \n",
      " \\   \n",
      " 4   \n",
      "  \\  \n",
      "  9  \n",
      "Inserting 6:\n",
      " ___20\n",
      "/     \n",
      "1     \n",
      " \\    \n",
      " 4_   \n",
      "   \\  \n",
      "   9  \n",
      "  /   \n",
      "  6   \n",
      "Inserting 3:\n",
      " ____20\n",
      "/      \n",
      "1_     \n",
      "  \\    \n",
      "  4_   \n",
      " /  \\  \n",
      " 3  9  \n",
      "   /   \n",
      "   6   \n",
      "Inserting 6:\n",
      " ____20\n",
      "/      \n",
      "1_     \n",
      "  \\    \n",
      "  4_   \n",
      " /  \\  \n",
      " 3  9  \n",
      "   /   \n",
      "   6   \n",
      "Inserting 0:\n",
      "  ____20\n",
      " /      \n",
      " 1_     \n",
      "/  \\    \n",
      "0  4_   \n",
      "  /  \\  \n",
      "  3  9  \n",
      "    /   \n",
      "    6   \n",
      "Inserting 4:\n",
      "  ____20\n",
      " /      \n",
      " 1_     \n",
      "/  \\    \n",
      "0  4_   \n",
      "  /  \\  \n",
      "  3  9  \n",
      "    /   \n",
      "    6   \n"
     ]
    }
   ],
   "source": [
    "import random \n",
    "import display_tree\n",
    "\n",
    "BST = BinarySearchTree(20)\n",
    "for _ in range(10):\n",
    "    ele = random.randint(0, 10)\n",
    "    print(\"Inserting \"+str(ele)+\":\")\n",
    "    BST.insert(ele)\n",
    "    # We have hidden the code for this function but it is available for use!\n",
    "    display_tree.display(BST.root)\n",
    "    \n",
    "\n"
   ]
  },
  {
   "cell_type": "markdown",
   "metadata": {},
   "source": [
    "---"
   ]
  },
  {
   "cell_type": "code",
   "execution_count": 7,
   "metadata": {},
   "outputs": [],
   "source": [
    "# class MyQueue():\n",
    "#     def __init__(self):\n",
    "#         self.queue_list = []\n",
    "    \n",
    "#     def isEmpty(self):\n",
    "#         return len(self.queue_list) == 0\n",
    "    \n",
    "#     def size(self):\n",
    "#         return len(self.queue_list)\n",
    "    \n",
    "#     def front(self):\n",
    "#         if self.isEmpty():\n",
    "#             return None\n",
    "#         else:\n",
    "#             return self.queue_list[0]\n",
    "    \n",
    "#     def back(self):\n",
    "#         if self.isEmpty():\n",
    "#             return None\n",
    "#         else:\n",
    "#             return self.queue_list[-1]\n",
    "    \n",
    "#     def enqueue(self, element):\n",
    "#         self.queue_list.append(element)\n",
    "\n",
    "    \n",
    "#     def dequeue(self):\n",
    "#         if self.isEmpty():\n",
    "#             return None\n",
    "#         else:\n",
    "#             front = self.front()\n",
    "#             self.queue_list.remove(front)\n",
    "#         return front\n",
    "    \n",
    "#     def print_queue(self):\n",
    "#         print(self.queue_list)"
   ]
  },
  {
   "cell_type": "markdown",
   "metadata": {},
   "source": [
    "# Find kth-Largest Element in a BST\n",
    "\n",
    ">* Naive Approach: Traverse the tree inOrder \n",
    ">* Get a tree List : ascending sorted elements\n",
    ">* return treeList[-k]"
   ]
  },
  {
   "cell_type": "code",
   "execution_count": 8,
   "metadata": {},
   "outputs": [
    {
     "name": "stdout",
     "output_type": "stream",
     "text": [
      "Inorder Traversal of BST --> [0, 1, 3, 4, 6, 9, 20]\n"
     ]
    },
    {
     "data": {
      "text/plain": [
       "6"
      ]
     },
     "execution_count": 8,
     "metadata": {},
     "output_type": "execute_result"
    }
   ],
   "source": [
    "k = 3\n",
    "\n",
    "def kthLargestElement(root,k):\n",
    "    tree = []\n",
    "    inorderTraversal(root, tree)\n",
    "    \n",
    "    print(\"Inorder Traversal of BST -->\", tree)\n",
    "    if (len(tree)-k)>=0 and k>0:\n",
    "        return tree[-k]\n",
    "    \n",
    "    \n",
    "    return None\n",
    "\n",
    "\n",
    "def inorderTraversal(root, tree):\n",
    "    if root:\n",
    "        inorderTraversal(root.leftChild, tree)\n",
    "        \n",
    "        if len(tree)==0:\n",
    "            tree.append(root.val)\n",
    "            \n",
    "        elif tree[-1] is not root.val:\n",
    "            tree.append(root.val)\n",
    "\n",
    "        inorderTraversal(root.rightChild, tree)\n",
    "    \n",
    "    \n",
    "kthLargestElement(BST.root,k)"
   ]
  },
  {
   "cell_type": "markdown",
   "metadata": {},
   "source": [
    "# Find k-Smallest element in a BST\n",
    "\n",
    ">* Naive Approach: Traverse the tree inOrder \n",
    ">* Get a tree List : ascending sorted elements\n",
    ">* return treeList[k-1]"
   ]
  },
  {
   "cell_type": "code",
   "execution_count": 9,
   "metadata": {},
   "outputs": [
    {
     "name": "stdout",
     "output_type": "stream",
     "text": [
      "Inorder Traversal of BST --> [0, 1, 3, 4, 6, 9, 20]\n"
     ]
    },
    {
     "data": {
      "text/plain": [
       "1"
      ]
     },
     "execution_count": 9,
     "metadata": {},
     "output_type": "execute_result"
    }
   ],
   "source": [
    "k=2\n",
    "def kthSmallestBST(root, k):\n",
    "    treeList=[]\n",
    "    \n",
    "    inOrderTraversal(root, treeList)\n",
    "    \n",
    "    print(\"Inorder Traversal of BST -->\", treeList)\n",
    "    if len(treeList)>k:\n",
    "        return treeList[k-1]\n",
    "    \n",
    "    return None\n",
    "\n",
    "def inOrderTraversal(root, treeList):\n",
    "    if root:\n",
    "        inOrderTraversal(root.leftChild, treeList)\n",
    "        if len(treeList)==0 or treeList[-1] is not root.val:\n",
    "            treeList.append(root.val)\n",
    "        inOrderTraversal(root.rightChild, treeList)\n",
    "\n",
    "            \n",
    "kthSmallestBST(BST.root,k)"
   ]
  },
  {
   "cell_type": "markdown",
   "metadata": {},
   "source": [
    "# Tree Treversals using Recursion\n",
    ">* 1. In-order \n",
    ">* 2. Pre-order\n",
    ">* 3. Post-order \n",
    ">* 4. Level-orer"
   ]
  },
  {
   "cell_type": "code",
   "execution_count": 10,
   "metadata": {},
   "outputs": [
    {
     "name": "stdout",
     "output_type": "stream",
     "text": [
      "  ____20\n",
      " /      \n",
      " 1_     \n",
      "/  \\    \n",
      "0  4_   \n",
      "  /  \\  \n",
      "  3  9  \n",
      "    /   \n",
      "    6   \n"
     ]
    }
   ],
   "source": [
    "display_tree.display(BST.root)"
   ]
  },
  {
   "cell_type": "code",
   "execution_count": 11,
   "metadata": {},
   "outputs": [
    {
     "name": "stdout",
     "output_type": "stream",
     "text": [
      "\n",
      "Level order Traversal\n",
      "  ____20\n",
      " /      \n",
      " 1_     \n",
      "/  \\    \n",
      "0  4_   \n",
      "  /  \\  \n",
      "  3  9  \n",
      "    /   \n",
      "    6   \n",
      "*****BFS for BST******\n",
      "\n",
      "Size of queue 1 20\n",
      "Size of queue 1 1\n",
      "Size of queue 2 1\n",
      "Size of queue 3 0\n",
      "Size of queue 2 4\n",
      "Size of queue 3 0\n",
      "Size of queue 2 4\n",
      "Size of queue 3 3\n",
      "Size of queue 2 9\n",
      "Size of queue 2 3\n",
      "Size of queue 1 9\n",
      "Size of queue 1 6\n",
      "Size of queue 0 6\n"
     ]
    }
   ],
   "source": [
    "# 1 : In-order traversal method (left - root - right)\n",
    "def inorderTraversal(root, stack):\n",
    "    if root is None:\n",
    "        return \n",
    "    \n",
    "    if root:\n",
    "        stack.append(root)\n",
    "        root = inorderTraversal(root.leftChild, stack)\n",
    "    \n",
    "        root = stack.pop()\n",
    "        print(root.val)\n",
    "\n",
    "        root = inorderTraversal(root.rightChild, stack)\n",
    "\n",
    "# print(\"\\nIn order Traversal\")       \n",
    "# display_tree.display(BST.root) \n",
    "# print(\"Moves left-root-right\\n\")\n",
    "# stack=[]    \n",
    "# inorderTraversal(BST.root, stack)\n",
    "                \n",
    "\n",
    "# pre-order traversal (root - left - right)\n",
    "def preorderTraversal(root):\n",
    "    if root is None:\n",
    "        return \n",
    "    if root:\n",
    "        print(root.val)\n",
    "        preorderTraversal(root.leftChild)\n",
    "        preorderTraversal(root.rightChild)\n",
    "        \n",
    "# print(\"\\nPre order Traversal\")\n",
    "# display_tree.display(BST.root)     \n",
    "# print(\"Moves root-left-right\\n\")\n",
    "# preorderTraversal(BST.root)\n",
    "\n",
    "# Post order Traversal (left-right-root)\n",
    "def postorderTraversal(root, stack):\n",
    "    if root is None:\n",
    "        return\n",
    "    if root:\n",
    "        stack.append(root)\n",
    "        left = postorderTraversal(root.leftChild, stack)\n",
    "        right = postorderTraversal(root.rightChild, stack)\n",
    "        root = stack.pop()\n",
    "        print(root.val)\n",
    "        \n",
    "# print(\"\\nPost order Traversal\")       \n",
    "# display_tree.display(BST.root) \n",
    "# print(\"left-right-root\\n\")\n",
    "# stack=[]       \n",
    "# postorderTraversal(BST.root, stack)\n",
    "\n",
    "\n",
    "# Level order traversal print node at each level left-right before moving to next level \n",
    "\n",
    "import queue\n",
    "\n",
    "\n",
    "def levelOrderTraversal(root, q):\n",
    "    result = \"\"\n",
    "    q = queue.Queue()\n",
    "    q.put(root)\n",
    "    current = root\n",
    "    while q.empty() is False:\n",
    "#         print(\"Size of queue ->\",q.qsize())\n",
    "        if current:\n",
    "            if current.leftChild:\n",
    "                q.put(current.leftChild)\n",
    "            if current.rightChild:\n",
    "                q.put(current.rightChild)\n",
    "\n",
    "#           print(\"Size of queue\", q.qsize())\n",
    "            current = q.get()\n",
    "            print(\"Size of queue\",q.qsize(), current.val)\n",
    "            result += str(current)\n",
    "    \n",
    "    return result\n",
    "\n",
    "print(\"\\nLevel order Traversal\")       \n",
    "display_tree.display(BST.root) \n",
    "print(\"*****BFS for BST******\\n\")\n",
    "q = queue.Queue()\n",
    "q.put(BST.root)\n",
    "result = levelOrderTraversal(BST.root, q)"
   ]
  },
  {
   "cell_type": "code",
   "execution_count": 12,
   "metadata": {},
   "outputs": [
    {
     "data": {
      "text/plain": [
       "'<__main__.Node object at 0x7fe3e844a350><__main__.Node object at 0x7fe3e84e3290><__main__.Node object at 0x7fe3e84e3290><__main__.Node object at 0x7fe3e84da490><__main__.Node object at 0x7fe3e84e3d50><__main__.Node object at 0x7fe3e84da490><__main__.Node object at 0x7fe3e84e3d50><__main__.Node object at 0x7fe3e84d8d10><__main__.Node object at 0x7fe3e84d8550><__main__.Node object at 0x7fe3e84d8d10><__main__.Node object at 0x7fe3e84d8550><__main__.Node object at 0x7fe3e84e3b90><__main__.Node object at 0x7fe3e84e3b90>'"
      ]
     },
     "execution_count": 12,
     "metadata": {},
     "output_type": "execute_result"
    }
   ],
   "source": [
    "result"
   ]
  },
  {
   "cell_type": "code",
   "execution_count": 13,
   "metadata": {},
   "outputs": [
    {
     "data": {
      "text/plain": [
       "'20->1->0->4->3->9->6->'"
      ]
     },
     "execution_count": 13,
     "metadata": {},
     "output_type": "execute_result"
    }
   ],
   "source": [
    "from collections import deque\n",
    "def bfsBST(root):\n",
    "\n",
    "    result = \"\"\n",
    "    if root:\n",
    "        d = deque([root])\n",
    "        while len(d)>0:\n",
    "            \n",
    "            current = d.popleft()\n",
    "            result += str(current.val)+\"->\"\n",
    "\n",
    "            if current.leftChild:\n",
    "                d.append(current.leftChild)\n",
    "            if current.rightChild:\n",
    "                d.append(current.rightChild)            \n",
    "    return result\n",
    "\n",
    "bfsBST(BST.root)"
   ]
  },
  {
   "cell_type": "markdown",
   "metadata": {},
   "source": [
    "# Find min and max of bst"
   ]
  },
  {
   "cell_type": "code",
   "execution_count": 14,
   "metadata": {},
   "outputs": [
    {
     "name": "stdout",
     "output_type": "stream",
     "text": [
      "  ____20\n",
      " /      \n",
      " 1_     \n",
      "/  \\    \n",
      "0  4_   \n",
      "  /  \\  \n",
      "  3  9  \n",
      "    /   \n",
      "    6   \n",
      "MIN VALUE IN BST=====>20"
     ]
    }
   ],
   "source": [
    "from collections import deque\n",
    "def findMin(root):\n",
    "    \"\"\"\n",
    "    Minimum value of a BST is left most node\n",
    "    \"\"\"\n",
    "    \n",
    "    if root is None:\n",
    "        return None\n",
    "    if root.leftChild:\n",
    "        return findMin(root.leftChild)\n",
    "    return str(root.val)\n",
    "\n",
    "def findMax(root):\n",
    "    \"\"\"\n",
    "    Maximum value of a BST is right most node\n",
    "    \"\"\"\n",
    "    \n",
    "    if root is None:\n",
    "        return None\n",
    "    \n",
    "    if root.rightChild:\n",
    "        return findMax(root.rightChild)\n",
    "    \n",
    "    return str(root.val)\n",
    "\n",
    "display_tree.display(BST.root) \n",
    "print(\"MIN VALUE IN BST=====>\", end=findMax(BST.root))\n"
   ]
  },
  {
   "cell_type": "code",
   "execution_count": 15,
   "metadata": {},
   "outputs": [
    {
     "name": "stdout",
     "output_type": "stream",
     "text": [
      "MAX VALUE IN BST=====>0"
     ]
    }
   ],
   "source": [
    "print(\"MAX VALUE IN BST=====>\", end=findMin(BST.root))"
   ]
  },
  {
   "cell_type": "markdown",
   "metadata": {},
   "source": [
    "# Find k-th Max/Min in a Binary Search Tree"
   ]
  },
  {
   "cell_type": "code",
   "execution_count": 70,
   "metadata": {},
   "outputs": [
    {
     "name": "stdout",
     "output_type": "stream",
     "text": [
      "  ____20\n",
      " /      \n",
      " 1_     \n",
      "/  \\    \n",
      "0  4_   \n",
      "  /  \\  \n",
      "  3  9  \n",
      "    /   \n",
      "    6   \n",
      "1->3->"
     ]
    },
    {
     "ename": "AttributeError",
     "evalue": "'NoneType' object has no attribute 'leftChild'",
     "output_type": "error",
     "traceback": [
      "\u001b[0;31m---------------------------------------------------------------------------\u001b[0m",
      "\u001b[0;31mAttributeError\u001b[0m                            Traceback (most recent call last)",
      "\u001b[0;32m<ipython-input-70-e2c20a43924d>\u001b[0m in \u001b[0;36m<module>\u001b[0;34m\u001b[0m\n\u001b[1;32m     22\u001b[0m \u001b[0;34m\u001b[0m\u001b[0m\n\u001b[1;32m     23\u001b[0m \u001b[0mdisplay_tree\u001b[0m\u001b[0;34m.\u001b[0m\u001b[0mdisplay\u001b[0m\u001b[0;34m(\u001b[0m\u001b[0mBST\u001b[0m\u001b[0;34m.\u001b[0m\u001b[0mroot\u001b[0m\u001b[0;34m)\u001b[0m\u001b[0;34m\u001b[0m\u001b[0;34m\u001b[0m\u001b[0m\n\u001b[0;32m---> 24\u001b[0;31m \u001b[0mprint\u001b[0m\u001b[0;34m(\u001b[0m\u001b[0mkthSmallest\u001b[0m\u001b[0;34m(\u001b[0m\u001b[0mBST\u001b[0m\u001b[0;34m.\u001b[0m\u001b[0mroot\u001b[0m\u001b[0;34m,\u001b[0m \u001b[0;36m1\u001b[0m\u001b[0;34m)\u001b[0m\u001b[0;34m)\u001b[0m\u001b[0;34m\u001b[0m\u001b[0;34m\u001b[0m\u001b[0m\n\u001b[0m",
      "\u001b[0;32m<ipython-input-70-e2c20a43924d>\u001b[0m in \u001b[0;36mkthSmallest\u001b[0;34m(root, k)\u001b[0m\n\u001b[1;32m     11\u001b[0m     \u001b[0;32mwhile\u001b[0m \u001b[0mlen\u001b[0m\u001b[0;34m(\u001b[0m\u001b[0md\u001b[0m\u001b[0;34m)\u001b[0m\u001b[0;34m>\u001b[0m\u001b[0;36m0\u001b[0m\u001b[0;34m:\u001b[0m\u001b[0;34m\u001b[0m\u001b[0;34m\u001b[0m\u001b[0m\n\u001b[1;32m     12\u001b[0m \u001b[0;34m\u001b[0m\u001b[0m\n\u001b[0;32m---> 13\u001b[0;31m         \u001b[0;32mif\u001b[0m \u001b[0mroot\u001b[0m\u001b[0;34m.\u001b[0m\u001b[0mleftChild\u001b[0m\u001b[0;34m:\u001b[0m\u001b[0;34m\u001b[0m\u001b[0;34m\u001b[0m\u001b[0m\n\u001b[0m\u001b[1;32m     14\u001b[0m             \u001b[0md\u001b[0m\u001b[0;34m.\u001b[0m\u001b[0mappend\u001b[0m\u001b[0;34m(\u001b[0m\u001b[0mroot\u001b[0m\u001b[0;34m.\u001b[0m\u001b[0mleftChild\u001b[0m\u001b[0;34m)\u001b[0m\u001b[0;34m\u001b[0m\u001b[0;34m\u001b[0m\u001b[0m\n\u001b[1;32m     15\u001b[0m             \u001b[0mroot\u001b[0m\u001b[0;34m=\u001b[0m\u001b[0mroot\u001b[0m\u001b[0;34m.\u001b[0m\u001b[0mleftChild\u001b[0m\u001b[0;34m\u001b[0m\u001b[0;34m\u001b[0m\u001b[0m\n",
      "\u001b[0;31mAttributeError\u001b[0m: 'NoneType' object has no attribute 'leftChild'"
     ]
    }
   ],
   "source": [
    "# def kthSmallest(root):\n",
    "from collections import deque\n",
    "\n",
    "def kthSmallest(root, k):\n",
    "    result = \"\"\n",
    "    if root is None:\n",
    "        return None\n",
    "    \n",
    "    d = deque([root])\n",
    "    \n",
    "    while len(d)>0:\n",
    "        \n",
    "        if root.leftChild:\n",
    "            d.append(root.leftChild)\n",
    "            root=root.leftChild\n",
    "        \n",
    "        root = d.pop()\n",
    "        print(root.val, end=\"->\")\n",
    "        root = root.rightChild\n",
    "\n",
    "\n",
    "\n",
    "display_tree.display(BST.root)\n",
    "print(kthSmallest(BST.root, 1))"
   ]
  },
  {
   "cell_type": "code",
   "execution_count": 175,
   "metadata": {},
   "outputs": [
    {
     "name": "stdout",
     "output_type": "stream",
     "text": [
      "  ____20\n",
      " /      \n",
      " 1_     \n",
      "/  \\    \n",
      "0  4_   \n",
      "  /  \\  \n",
      "  3  9  \n",
      "    /   \n",
      "    6   \n"
     ]
    },
    {
     "data": {
      "text/plain": [
       "9"
      ]
     },
     "execution_count": 175,
     "metadata": {},
     "output_type": "execute_result"
    }
   ],
   "source": [
    "def kthMaxBST(root, k):\n",
    "    \n",
    "    if k<1:\n",
    "        return None\n",
    "    \n",
    "    if root is None:\n",
    "        return None\n",
    "\n",
    "    node = kthMaxHelper(root, k)\n",
    "\n",
    "    if node is not None:\n",
    "        return node.val\n",
    "    return None\n",
    "    \n",
    "\n",
    "# current_max = None\n",
    "def kthMaxHelper(root, k):\n",
    "    global counter\n",
    "    \n",
    "    if root is None:\n",
    "        return None\n",
    "    \n",
    "    node = kthMaxHelper(root.rightChild, k)\n",
    "#     print(\"root->\",root.val,\"counter->\",counter, \"k->\",k)\n",
    "\n",
    "    # Base case\n",
    "    if (counter is not k):\n",
    "        counter+=1\n",
    "        node = root\n",
    "\n",
    "    if counter == k:\n",
    "        return node\n",
    "\n",
    "    else:\n",
    "        return kthMaxHelper(root.leftChild, k)\n",
    "    \n",
    "counter = 0          \n",
    "display_tree.display(BST.root)\n",
    "kthMaxBST(BST.root, 2)"
   ]
  },
  {
   "cell_type": "code",
   "execution_count": 200,
   "metadata": {},
   "outputs": [
    {
     "name": "stdout",
     "output_type": "stream",
     "text": [
      "  ____20\n",
      " /      \n",
      " 1_     \n",
      "/  \\    \n",
      "0  4_   \n",
      "  /  \\  \n",
      "  3  9  \n",
      "    /   \n",
      "    6   \n",
      "root-> 0 counter-> 0 k-> 5\n",
      "root-> 1 counter-> 1 k-> 5\n",
      "root-> 3 counter-> 2 k-> 5\n",
      "root-> 4 counter-> 3 k-> 5\n",
      "root-> 6 counter-> 4 k-> 5\n",
      "root-> 9 counter-> 5 k-> 5\n",
      "root-> 20 counter-> 5 k-> 5\n"
     ]
    },
    {
     "data": {
      "text/plain": [
       "6"
      ]
     },
     "execution_count": 200,
     "metadata": {},
     "output_type": "execute_result"
    }
   ],
   "source": [
    "def kthSmallestBST(root,k):\n",
    "    \"\"\"\n",
    "    Perform inorder traversal. \n",
    "    Increment counter after reaching left most node\n",
    "    when counter is k return node else None\n",
    "    \"\"\"\n",
    "    \n",
    "    if k<1:\n",
    "        return None\n",
    "    \n",
    "    if root is None:\n",
    "        return None\n",
    "\n",
    "    node = kthSmallestRecursive(root, k)\n",
    "    \n",
    "    if node is not None:\n",
    "        return node.val\n",
    "    else:\n",
    "        return node\n",
    "        \n",
    "    \n",
    "def kthSmallestRecursive(root, k):\n",
    "    global counter\n",
    "    if root is None:\n",
    "        return None\n",
    "    if root:\n",
    "        node = kthSmallestRecursive(root.leftChild, k)\n",
    "\n",
    "        print(\"root->\",root.val,\"counter->\",counter, \"k->\",k)\n",
    "\n",
    "        if (counter is not k):\n",
    "            counter += 1\n",
    "            node = root\n",
    "\n",
    "        if counter == k:\n",
    "            return node\n",
    "        else:\n",
    "            return kthSmallestRecursive(root.rightChild, k)\n",
    "\n",
    "counter = 0\n",
    "display_tree.display(BST.root)\n",
    "kthSmallestBST(BST.root, 5)\n"
   ]
  },
  {
   "cell_type": "code",
   "execution_count": null,
   "metadata": {},
   "outputs": [],
   "source": []
  },
  {
   "cell_type": "code",
   "execution_count": null,
   "metadata": {},
   "outputs": [],
   "source": []
  },
  {
   "cell_type": "code",
   "execution_count": null,
   "metadata": {},
   "outputs": [],
   "source": []
  },
  {
   "cell_type": "code",
   "execution_count": null,
   "metadata": {},
   "outputs": [],
   "source": []
  },
  {
   "cell_type": "code",
   "execution_count": null,
   "metadata": {},
   "outputs": [],
   "source": []
  },
  {
   "cell_type": "code",
   "execution_count": null,
   "metadata": {},
   "outputs": [],
   "source": []
  },
  {
   "cell_type": "code",
   "execution_count": null,
   "metadata": {},
   "outputs": [],
   "source": []
  },
  {
   "cell_type": "code",
   "execution_count": null,
   "metadata": {},
   "outputs": [],
   "source": []
  },
  {
   "cell_type": "code",
   "execution_count": null,
   "metadata": {},
   "outputs": [],
   "source": []
  },
  {
   "cell_type": "code",
   "execution_count": null,
   "metadata": {},
   "outputs": [],
   "source": []
  },
  {
   "cell_type": "code",
   "execution_count": null,
   "metadata": {},
   "outputs": [],
   "source": []
  }
 ],
 "metadata": {
  "kernelspec": {
   "display_name": "Python [conda env:chi] *",
   "language": "python",
   "name": "conda-env-chi-py"
  },
  "language_info": {
   "codemirror_mode": {
    "name": "ipython",
    "version": 3
   },
   "file_extension": ".py",
   "mimetype": "text/x-python",
   "name": "python",
   "nbconvert_exporter": "python",
   "pygments_lexer": "ipython3",
   "version": "3.7.5"
  }
 },
 "nbformat": 4,
 "nbformat_minor": 4
}
