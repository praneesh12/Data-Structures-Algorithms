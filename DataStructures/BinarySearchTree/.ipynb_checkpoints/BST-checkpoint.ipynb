{
 "cells": [
  {
   "cell_type": "markdown",
   "metadata": {},
   "source": [
    "# Implement a Binary Search Tree\n",
    "\n",
    ">* Binary Search Tree Insertion Algorithm #\n",
    "Here is a description of the algorithm you’d use to insert a new value into a BST.\n",
    "\n",
    ">* Start from the root node\n",
    ">* Check if the value to be inserted is greater than the root/current node’s value\n",
    ">* If yes, then repeat the steps above for the right subtree, otherwise repeat the steps above for the left sub-tree of the current node.\n",
    ">* Repeat until you find a node that has no right/left child to move onto. Insert the given value there and update the parent node accordingly.\n",
    "\n",
    "Always check following condition holds true while inserting elements in a tree.\n",
    "\n",
    "**`NodeValues(leftsubtree) <= CurrentNodeValue < NodeValues(rightsubtree)`**"
   ]
  },
  {
   "cell_type": "code",
   "execution_count": 4,
   "metadata": {},
   "outputs": [],
   "source": [
    "class Node:\n",
    "    def __init__(self, val):\n",
    "        self.val=val\n",
    "        self.leftChild=None\n",
    "        self.rightChild=None\n",
    "        self.parent=None\n",
    "    \n",
    "#     def insert(self, val):\n",
    "#         current = self   \n",
    "#         parent = None\n",
    "        \n",
    "#         while current:\n",
    "#             parent = current\n",
    "#             if val < current.val:\n",
    "#                 current = current.leftChild\n",
    "#             elif val > current.val:\n",
    "#                 current = current.rightChild\n",
    "#             else:\n",
    "#                 return\n",
    "            \n",
    "#         if val<parent.val:\n",
    "#             parent.leftChild = Node(val)\n",
    "#         else:\n",
    "#             parent.rightChild = Node(val)\n",
    "            \n",
    "    \n",
    "class BinarySearchTree:\n",
    "    def __init__(self, val):\n",
    "        self.root=Node(val) # Initializes a root node\n",
    "    \n",
    "#     def insert(self, val):\n",
    "#         if self.root:\n",
    "#             return self.root.insert(val)\n",
    "#         else:\n",
    "#             self.root = Node(val)\n",
    "#             return True\n",
    "        \n",
    "        "
   ]
  },
  {
   "cell_type": "code",
   "execution_count": 5,
   "metadata": {},
   "outputs": [],
   "source": [
    "bst1 = BinarySearchTree(6)\n",
    "bst1.insert(5)\n",
    "bst1.insert(2)\n",
    "bst1.insert(8)\n",
    "bst1.insert(20)\n"
   ]
  },
  {
   "cell_type": "code",
   "execution_count": null,
   "metadata": {},
   "outputs": [],
   "source": [
    "\n",
    "    \n",
    "\n"
   ]
  },
  {
   "cell_type": "markdown",
   "metadata": {},
   "source": [
    "---"
   ]
  },
  {
   "cell_type": "code",
   "execution_count": 7,
   "metadata": {},
   "outputs": [],
   "source": [
    "# class MyQueue():\n",
    "#     def __init__(self):\n",
    "#         self.queue_list = []\n",
    "    \n",
    "#     def isEmpty(self):\n",
    "#         return len(self.queue_list) == 0\n",
    "    \n",
    "#     def size(self):\n",
    "#         return len(self.queue_list)\n",
    "    \n",
    "#     def front(self):\n",
    "#         if self.isEmpty():\n",
    "#             return None\n",
    "#         else:\n",
    "#             return self.queue_list[0]\n",
    "    \n",
    "#     def back(self):\n",
    "#         if self.isEmpty():\n",
    "#             return None\n",
    "#         else:\n",
    "#             return self.queue_list[-1]\n",
    "    \n",
    "#     def enqueue(self, element):\n",
    "#         self.queue_list.append(element)\n",
    "\n",
    "    \n",
    "#     def dequeue(self):\n",
    "#         if self.isEmpty():\n",
    "#             return None\n",
    "#         else:\n",
    "#             front = self.front()\n",
    "#             self.queue_list.remove(front)\n",
    "#         return front\n",
    "    \n",
    "#     def print_queue(self):\n",
    "#         print(self.queue_list)"
   ]
  },
  {
   "cell_type": "markdown",
   "metadata": {},
   "source": [
    "# Find kth-Largest Element in a BST\n",
    "\n",
    ">* Naive Approach: Traverse the tree inOrder \n",
    ">* Get a tree List : ascending sorted elements\n",
    ">* return treeList[-k]"
   ]
  },
  {
   "cell_type": "code",
   "execution_count": 57,
   "metadata": {},
   "outputs": [
    {
     "name": "stdout",
     "output_type": "stream",
     "text": [
      "Inorder Traversal of BST --> [50, 62, 170, 183, 185, 200, 213, 314, 380, 599, 636, 640, 642, 692, 752, 854, 866]\n"
     ]
    },
    {
     "data": {
      "text/plain": [
       "752"
      ]
     },
     "execution_count": 57,
     "metadata": {},
     "output_type": "execute_result"
    }
   ],
   "source": [
    "k = 3\n",
    "\n",
    "def kthLargestElement(root,k):\n",
    "    tree = []\n",
    "    inorderTraversal(root, tree)\n",
    "    \n",
    "    print(\"Inorder Traversal of BST -->\", tree)\n",
    "    if (len(tree)-k)>=0 and k>0:\n",
    "        return tree[-k]\n",
    "    \n",
    "    \n",
    "    return None\n",
    "\n",
    "\n",
    "def inorderTraversal(root, tree):\n",
    "    if root:\n",
    "        inorderTraversal(root.leftChild, tree)\n",
    "        \n",
    "        if len(tree)==0:\n",
    "            tree.append(root.val)\n",
    "            \n",
    "        elif tree[-1] is not root.val:\n",
    "            tree.append(root.val)\n",
    "\n",
    "        inorderTraversal(root.rightChild, tree)\n",
    "    \n",
    "    \n",
    "kthLargestElement(BST.root,k)"
   ]
  },
  {
   "cell_type": "markdown",
   "metadata": {},
   "source": [
    "# Find k-Smallest element in a BST\n",
    "\n",
    ">* Naive Approach: Traverse the tree inOrder \n",
    ">* Get a tree List : ascending sorted elements\n",
    ">* return treeList[k-1]"
   ]
  },
  {
   "cell_type": "code",
   "execution_count": 9,
   "metadata": {},
   "outputs": [
    {
     "name": "stdout",
     "output_type": "stream",
     "text": [
      "Inorder Traversal of BST --> [0, 1, 3, 4, 6, 9, 20]\n"
     ]
    },
    {
     "data": {
      "text/plain": [
       "1"
      ]
     },
     "execution_count": 9,
     "metadata": {},
     "output_type": "execute_result"
    }
   ],
   "source": [
    "k=2\n",
    "def kthSmallestBST(root, k):\n",
    "    treeList=[]\n",
    "    \n",
    "    inOrderTraversal(root, treeList)\n",
    "    \n",
    "    print(\"Inorder Traversal of BST -->\", treeList)\n",
    "    if len(treeList)>k:\n",
    "        return treeList[k-1]\n",
    "    \n",
    "    return None\n",
    "\n",
    "def inOrderTraversal(root, treeList):\n",
    "    if root:\n",
    "        inOrderTraversal(root.leftChild, treeList)\n",
    "        if len(treeList)==0 or treeList[-1] is not root.val:\n",
    "            treeList.append(root.val)\n",
    "        inOrderTraversal(root.rightChild, treeList)\n",
    "\n",
    "            \n",
    "kthSmallestBST(BST.root,k)"
   ]
  },
  {
   "cell_type": "markdown",
   "metadata": {},
   "source": [
    "# Tree Treversals using Recursion\n",
    ">* 1. In-order \n",
    ">* 2. Pre-order\n",
    ">* 3. Post-order \n",
    ">* 4. Level-orer"
   ]
  },
  {
   "cell_type": "code",
   "execution_count": 10,
   "metadata": {},
   "outputs": [
    {
     "name": "stdout",
     "output_type": "stream",
     "text": [
      "  ____20\n",
      " /      \n",
      " 1_     \n",
      "/  \\    \n",
      "0  4_   \n",
      "  /  \\  \n",
      "  3  9  \n",
      "    /   \n",
      "    6   \n"
     ]
    }
   ],
   "source": [
    "display_tree.display(BST.root)"
   ]
  },
  {
   "cell_type": "code",
   "execution_count": 58,
   "metadata": {},
   "outputs": [
    {
     "name": "stdout",
     "output_type": "stream",
     "text": [
      "\n",
      "Level order Traversal\n",
      "  ___________200___________________              \n",
      " /                                 \\             \n",
      "50_________             __________642__________  \n",
      "           \\           /                       \\ \n",
      "      ____185        _380____          _______866\n",
      "     /              /        \\        /          \n",
      "    170_          _314     _636_     692_        \n",
      "   /    \\        /        /     \\        \\       \n",
      "  62   183      213      599   640      752_     \n",
      "                                            \\    \n",
      "                                           854   \n",
      "*****BFS for BST******\n",
      "\n",
      "Size of queue 2 200\n",
      "Size of queue 3 50\n",
      "Size of queue 3 642\n",
      "Size of queue 4 50\n",
      "Size of queue 4 642\n",
      "Size of queue 5 185\n",
      "Size of queue 5 380\n",
      "Size of queue 6 866\n",
      "Size of queue 6 185\n",
      "Size of queue 6 380\n",
      "Size of queue 7 866\n",
      "Size of queue 7 170\n",
      "Size of queue 8 314\n",
      "Size of queue 8 636\n",
      "Size of queue 9 692\n",
      "Size of queue 9 170\n",
      "Size of queue 10 314\n",
      "Size of queue 10 636\n",
      "Size of queue 11 692\n",
      "Size of queue 11 62\n",
      "Size of queue 10 183\n",
      "Size of queue 9 213\n",
      "Size of queue 8 599\n",
      "Size of queue 7 640\n",
      "Size of queue 6 752\n",
      "Size of queue 6 62\n",
      "Size of queue 5 183\n",
      "Size of queue 4 213\n",
      "Size of queue 3 599\n",
      "Size of queue 2 640\n",
      "Size of queue 1 752\n",
      "Size of queue 1 854\n",
      "Size of queue 0 854\n"
     ]
    }
   ],
   "source": [
    "# 1 : In-order traversal method (left - root - right)\n",
    "def inorderTraversal(root, stack):\n",
    "    if root is None:\n",
    "        return \n",
    "    \n",
    "    if root:\n",
    "        stack.append(root)\n",
    "        root = inorderTraversal(root.leftChild, stack)\n",
    "    \n",
    "        root = stack.pop()\n",
    "        print(root.val)\n",
    "\n",
    "        root = inorderTraversal(root.rightChild, stack)\n",
    "\n",
    "# print(\"\\nIn order Traversal\")       \n",
    "# display_tree.display(BST.root) \n",
    "# print(\"Moves left-root-right\\n\")\n",
    "# stack=[]    \n",
    "# inorderTraversal(BST.root, stack)\n",
    "                \n",
    "\n",
    "# pre-order traversal (root - left - right)\n",
    "def preorderTraversal(root):\n",
    "    if root is None:\n",
    "        return \n",
    "    if root:\n",
    "        print(root.val)\n",
    "        preorderTraversal(root.leftChild)\n",
    "        preorderTraversal(root.rightChild)\n",
    "        \n",
    "# print(\"\\nPre order Traversal\")\n",
    "# display_tree.display(BST.root)     \n",
    "# print(\"Moves root-left-right\\n\")\n",
    "# preorderTraversal(BST.root)\n",
    "\n",
    "# Post order Traversal (left-right-root)\n",
    "def postorderTraversal(root, stack):\n",
    "    if root is None:\n",
    "        return\n",
    "    if root:\n",
    "        stack.append(root)\n",
    "        left = postorderTraversal(root.leftChild, stack)\n",
    "        right = postorderTraversal(root.rightChild, stack)\n",
    "        root = stack.pop()\n",
    "        print(root.val)\n",
    "        \n",
    "# print(\"\\nPost order Traversal\")       \n",
    "# display_tree.display(BST.root) \n",
    "# print(\"left-right-root\\n\")\n",
    "# stack=[]       \n",
    "# postorderTraversal(BST.root, stack)\n",
    "\n",
    "\n",
    "# Level order traversal print node at each level left-right before moving to next level \n",
    "\n",
    "import queue\n",
    "\n",
    "\n",
    "def levelOrderTraversal(root, q):\n",
    "    result = \"\"\n",
    "    q = queue.Queue()\n",
    "    q.put(root)\n",
    "    current = root\n",
    "    while q.empty() is False:\n",
    "#         print(\"Size of queue ->\",q.qsize())\n",
    "        if current:\n",
    "        \n",
    "            if current.leftChild:\n",
    "                q.put(current.leftChild)\n",
    "                \n",
    "            if current.rightChild:\n",
    "                q.put(current.rightChild)\n",
    "\n",
    "#           print(\"Size of queue\", q.qsize())\n",
    "            current = q.get()\n",
    "            print(\"Size of queue\",q.qsize(), current.val)\n",
    "            result += str(current)\n",
    "    \n",
    "    return result\n",
    "\n",
    "print(\"\\nLevel order Traversal\")       \n",
    "display_tree.display(BST.root) \n",
    "print(\"*****BFS for BST******\\n\")\n",
    "q = queue.Queue()\n",
    "q.put(BST.root)\n",
    "result = levelOrderTraversal(BST.root, q)"
   ]
  },
  {
   "cell_type": "code",
   "execution_count": 12,
   "metadata": {},
   "outputs": [
    {
     "data": {
      "text/plain": [
       "'<__main__.Node object at 0x7fe3e844a350><__main__.Node object at 0x7fe3e84e3290><__main__.Node object at 0x7fe3e84e3290><__main__.Node object at 0x7fe3e84da490><__main__.Node object at 0x7fe3e84e3d50><__main__.Node object at 0x7fe3e84da490><__main__.Node object at 0x7fe3e84e3d50><__main__.Node object at 0x7fe3e84d8d10><__main__.Node object at 0x7fe3e84d8550><__main__.Node object at 0x7fe3e84d8d10><__main__.Node object at 0x7fe3e84d8550><__main__.Node object at 0x7fe3e84e3b90><__main__.Node object at 0x7fe3e84e3b90>'"
      ]
     },
     "execution_count": 12,
     "metadata": {},
     "output_type": "execute_result"
    }
   ],
   "source": [
    "result"
   ]
  },
  {
   "cell_type": "code",
   "execution_count": 59,
   "metadata": {},
   "outputs": [
    {
     "data": {
      "text/plain": [
       "'200->50->642->185->380->866->170->314->636->692->62->183->213->599->640->752->854->'"
      ]
     },
     "execution_count": 59,
     "metadata": {},
     "output_type": "execute_result"
    }
   ],
   "source": [
    "from collections import deque\n",
    "def bfsBST(root):\n",
    "\n",
    "    result = \"\"\n",
    "    if root:\n",
    "        d = deque([root])\n",
    "        while len(d)>0:\n",
    "            \n",
    "            current = d.popleft()\n",
    "            result += str(current.val)+\"->\"\n",
    "\n",
    "            if current.leftChild:\n",
    "                d.append(current.leftChild)\n",
    "            if current.rightChild:\n",
    "                d.append(current.rightChild)            \n",
    "    return result\n",
    "\n",
    "bfsBST(BST.root)"
   ]
  },
  {
   "cell_type": "markdown",
   "metadata": {},
   "source": [
    "# Find min and max of bst"
   ]
  },
  {
   "cell_type": "code",
   "execution_count": 14,
   "metadata": {},
   "outputs": [
    {
     "name": "stdout",
     "output_type": "stream",
     "text": [
      "  ____20\n",
      " /      \n",
      " 1_     \n",
      "/  \\    \n",
      "0  4_   \n",
      "  /  \\  \n",
      "  3  9  \n",
      "    /   \n",
      "    6   \n",
      "MIN VALUE IN BST=====>20"
     ]
    }
   ],
   "source": [
    "from collections import deque\n",
    "def findMin(root):\n",
    "    \"\"\"\n",
    "    Minimum value of a BST is left most node\n",
    "    \"\"\"\n",
    "    \n",
    "    if root is None:\n",
    "        return None\n",
    "    if root.leftChild:\n",
    "        return findMin(root.leftChild)\n",
    "    return str(root.val)\n",
    "\n",
    "def findMax(root):\n",
    "    \"\"\"\n",
    "    Maximum value of a BST is right most node\n",
    "    \"\"\"\n",
    "    \n",
    "    if root is None:\n",
    "        return None\n",
    "    \n",
    "    if root.rightChild:\n",
    "        return findMax(root.rightChild)\n",
    "    \n",
    "    return str(root.val)\n",
    "\n",
    "display_tree.display(BST.root) \n",
    "print(\"MIN VALUE IN BST=====>\", end=findMax(BST.root))\n"
   ]
  },
  {
   "cell_type": "code",
   "execution_count": 15,
   "metadata": {},
   "outputs": [
    {
     "name": "stdout",
     "output_type": "stream",
     "text": [
      "MAX VALUE IN BST=====>0"
     ]
    }
   ],
   "source": [
    "print(\"MAX VALUE IN BST=====>\", end=findMin(BST.root))"
   ]
  },
  {
   "cell_type": "markdown",
   "metadata": {},
   "source": [
    "# Find k-th Max/Min in a Binary Search Tree"
   ]
  },
  {
   "cell_type": "code",
   "execution_count": null,
   "metadata": {},
   "outputs": [],
   "source": []
  },
  {
   "cell_type": "code",
   "execution_count": 60,
   "metadata": {},
   "outputs": [
    {
     "name": "stdout",
     "output_type": "stream",
     "text": [
      "  ___________200___________________              \n",
      " /                                 \\             \n",
      "50_________             __________642__________  \n",
      "           \\           /                       \\ \n",
      "      ____185        _380____          _______866\n",
      "     /              /        \\        /          \n",
      "    170_          _314     _636_     692_        \n",
      "   /    \\        /        /     \\        \\       \n",
      "  62   183      213      599   640      752_     \n",
      "                                            \\    \n",
      "                                           854   \n"
     ]
    },
    {
     "data": {
      "text/plain": [
       "854"
      ]
     },
     "execution_count": 60,
     "metadata": {},
     "output_type": "execute_result"
    }
   ],
   "source": [
    "def kthMaxBST(root, k):\n",
    "    \n",
    "    if k<1:\n",
    "        return None\n",
    "    \n",
    "    if root is None:\n",
    "        return None\n",
    "\n",
    "    node = kthMaxHelper(root, k)\n",
    "\n",
    "    if node is not None:\n",
    "        return node.val\n",
    "    return None\n",
    "    \n",
    "\n",
    "# current_max = None\n",
    "def kthMaxHelper(root, k):\n",
    "    global counter\n",
    "    \n",
    "    if root is None:\n",
    "        return None\n",
    "    \n",
    "    node = kthMaxHelper(root.rightChild, k)\n",
    "#     print(\"root->\",root.val,\"counter->\",counter, \"k->\",k)\n",
    "\n",
    "    # Base case\n",
    "    if (counter is not k):\n",
    "        counter+=1\n",
    "        node = root\n",
    "\n",
    "    if counter == k:\n",
    "        return node\n",
    "\n",
    "    else:\n",
    "        return kthMaxHelper(root.leftChild, k)\n",
    "    \n",
    "counter = 0          \n",
    "display_tree.display(BST.root)\n",
    "kthMaxBST(BST.root, 2)"
   ]
  },
  {
   "cell_type": "code",
   "execution_count": 8,
   "metadata": {},
   "outputs": [
    {
     "name": "stdout",
     "output_type": "stream",
     "text": [
      "   20_____         \n",
      "  /       \\        \n",
      " 17      50_______ \n",
      "/       /         \\\n",
      "2      36        95\n",
      "      /         /  \n",
      "     22      __93  \n",
      "            /      \n",
      "           66_     \n",
      "              \\    \n",
      "             89    \n",
      "root-> 2 counter-> 0 k-> 5\n",
      "root-> 17 counter-> 1 k-> 5\n",
      "root-> 20 counter-> 2 k-> 5\n",
      "root-> 22 counter-> 3 k-> 5\n",
      "root-> 36 counter-> 4 k-> 5\n",
      "root-> 50 counter-> 5 k-> 5\n"
     ]
    },
    {
     "data": {
      "text/plain": [
       "36"
      ]
     },
     "execution_count": 8,
     "metadata": {},
     "output_type": "execute_result"
    }
   ],
   "source": [
    "def kthSmallestBST(root,k):\n",
    "    \"\"\"\n",
    "    Perform inorder traversal. \n",
    "    Increment counter after reaching left most node\n",
    "    when counter is k return node else None\n",
    "    \"\"\"\n",
    "    \n",
    "    if k<1:\n",
    "        return None\n",
    "    \n",
    "    if root is None:\n",
    "        return None\n",
    "\n",
    "    node = kthSmallestRecursive(root, k)\n",
    "    \n",
    "    if node is not None:\n",
    "        return node.val\n",
    "    else:\n",
    "        return node\n",
    "        \n",
    "    \n",
    "def kthSmallestRecursive(root, k):\n",
    "    global counter\n",
    "    if root is None:\n",
    "        return None\n",
    "    if root:\n",
    "        node = kthSmallestRecursive(root.leftChild, k)\n",
    "\n",
    "        print(\"root->\",root.val,\"counter->\",counter, \"k->\",k)\n",
    "\n",
    "        if (counter is not k):\n",
    "            counter += 1\n",
    "            node = root\n",
    "\n",
    "        if counter == k:\n",
    "            return node\n",
    "        else:\n",
    "            return kthSmallestRecursive(root.rightChild, k)\n",
    "\n",
    "counter = 0\n",
    "display_tree.display(BST.root)\n",
    "kthSmallestBST(BST.root, 5)\n"
   ]
  },
  {
   "cell_type": "markdown",
   "metadata": {},
   "source": [
    "# Find Ancestors of a given node in a BST\n",
    "\n",
    ">* Problem Statement #\n",
    ">* Implement the findAncestors(root, k) function which will find the ancestors of the node whose value is “k”. \n",
    ">* Here root is the root node of a binary search tree and k is an integer value of node whose ancestors you need to find. \n",
    "\n",
    "An illustration is also given. Your code is evaluated on the tree given in the example."
   ]
  },
  {
   "cell_type": "code",
   "execution_count": 28,
   "metadata": {},
   "outputs": [
    {
     "name": "stdout",
     "output_type": "stream",
     "text": [
      "   20_____         \n",
      "  /       \\        \n",
      " 17      50_______ \n",
      "/       /         \\\n",
      "2      36        95\n",
      "      /         /  \n",
      "     22      __93  \n",
      "            /      \n",
      "           66_     \n",
      "              \\    \n",
      "             89    \n",
      "['20->', '50->', '36->']\n"
     ]
    }
   ],
   "source": [
    "def findAncestors(root, k, path):\n",
    "    \"\"\"\n",
    "    search for node k\n",
    "    path from root to k should give all nodes which are ancestors to k\n",
    "    \"\"\"\n",
    "    \n",
    "    if root is None:\n",
    "        return None\n",
    "    \n",
    "    if k < root.val:\n",
    "        path.append(str(root.val)+\"->\")\n",
    "        findAncestors(root.leftChild, k, path)\n",
    "    \n",
    "    elif k > root.val:\n",
    "        path.append(str(root.val)+\"->\")\n",
    "        findAncestors(root.rightChild, k, path)\n",
    "    \n",
    "    else:\n",
    "        # k == root.val:\n",
    "        print(path)\n",
    "#         return path\n",
    "    \n",
    "#     return None\n",
    "path=[]\n",
    "display_tree.display(BST.root)\n",
    "findAncestors(BST.root, 22, path)"
   ]
  },
  {
   "cell_type": "code",
   "execution_count": 30,
   "metadata": {},
   "outputs": [
    {
     "name": "stdout",
     "output_type": "stream",
     "text": [
      "   20_____         \n",
      "  /       \\        \n",
      " 17      50_______ \n",
      "/       /         \\\n",
      "2      36        95\n",
      "      /         /  \n",
      "     22      __93  \n",
      "            /      \n",
      "           66_     \n",
      "              \\    \n",
      "             89    \n"
     ]
    },
    {
     "data": {
      "text/plain": [
       "deque([36, 50, 20])"
      ]
     },
     "execution_count": 30,
     "metadata": {},
     "output_type": "execute_result"
    }
   ],
   "source": [
    "def findAncestors(root, k):\n",
    "    # Write your code here\n",
    "    d = deque([])\n",
    "    d = path_to_node(root, k, d)\n",
    "    return d\n",
    "\n",
    "def path_to_node(root, k, d):\n",
    "    if root is None:\n",
    "        return None\n",
    "    if k > root.val:\n",
    "        d.appendleft(root.val)\n",
    "        return path_to_node(root.rightChild, k, d)\n",
    "    elif k < root.val:\n",
    "        d.appendleft(root.val)\n",
    "        return path_to_node(root.leftChild, k, d)\n",
    "    else:\n",
    "        # k == root.val \n",
    "        return d\n",
    "    \n",
    "display_tree.display(BST.root)\n",
    "findAncestors(BST.root, 22)"
   ]
  },
  {
   "cell_type": "markdown",
   "metadata": {},
   "source": [
    "# Find Height of a Tree"
   ]
  },
  {
   "cell_type": "code",
   "execution_count": 67,
   "metadata": {},
   "outputs": [
    {
     "name": "stdout",
     "output_type": "stream",
     "text": [
      "  ___________200___________________              \n",
      " /                                 \\             \n",
      "50_________             __________642__________  \n",
      "           \\           /                       \\ \n",
      "      ____185        _380____          _______866\n",
      "     /              /        \\        /          \n",
      "    170_          _314     _636_     692_        \n",
      "   /    \\        /        /     \\        \\       \n",
      "  62   183      213      599   640      752_     \n",
      "                                            \\    \n",
      "                                           854   \n"
     ]
    },
    {
     "data": {
      "text/plain": [
       "(5, 1)"
      ]
     },
     "execution_count": 67,
     "metadata": {},
     "output_type": "execute_result"
    }
   ],
   "source": [
    "def findHeight(root):\n",
    "    # recursively visit all leftChild/Right \n",
    "    # Keep track of node height, maxHeight\n",
    "    if root is None:\n",
    "        return None\n",
    "    nodeHeight = 0\n",
    "    c=0\n",
    "    maxHeight = recursiveHeightBST(root, nodeHeight,c)\n",
    "    \n",
    "    return maxHeight,minHeight\n",
    "\n",
    "def recursiveHeightBST(root, nodeHeight,c):\n",
    "    global maxHeight\n",
    "    global minHeight\n",
    "    \n",
    "    if root is None:\n",
    "        return None\n",
    "    \n",
    "    if root:\n",
    "        nodeHeight += 1\n",
    "        recursiveHeightBST(root.leftChild, nodeHeight,c)\n",
    "        recursiveHeightBST(root.rightChild, nodeHeight,c)\n",
    "        \n",
    "#     print(\"maxHeight->\",maxHeight, \"nodeHeight->\",nodeHeight, \"minHeight->\",minHeight)\n",
    "\n",
    "    if nodeHeight > maxHeight:\n",
    "        maxHeight=nodeHeight\n",
    "        \n",
    "    if nodeHeight < minHeight:\n",
    "        minHeight=nodeHeight\n",
    "        \n",
    "    return maxHeight-1\n",
    "\n",
    "maxHeight = float('-inf')  \n",
    "minHeight = float('inf')  \n",
    "\n",
    "display_tree.display(BST.root)      \n",
    "findHeight(BST.root)"
   ]
  },
  {
   "cell_type": "code",
   "execution_count": 5,
   "metadata": {},
   "outputs": [
    {
     "ename": "NameError",
     "evalue": "name 'BST' is not defined",
     "output_type": "error",
     "traceback": [
      "\u001b[0;31m---------------------------------------------------------------------------\u001b[0m",
      "\u001b[0;31mNameError\u001b[0m                                 Traceback (most recent call last)",
      "\u001b[0;32m<ipython-input-5-5bff8b511f67>\u001b[0m in \u001b[0;36m<module>\u001b[0;34m\u001b[0m\n\u001b[1;32m     10\u001b[0m \u001b[0;34m\u001b[0m\u001b[0m\n\u001b[1;32m     11\u001b[0m \u001b[0;34m\u001b[0m\u001b[0m\n\u001b[0;32m---> 12\u001b[0;31m \u001b[0mfindHeight\u001b[0m\u001b[0;34m(\u001b[0m\u001b[0mBST\u001b[0m\u001b[0;34m.\u001b[0m\u001b[0mroot\u001b[0m\u001b[0;34m)\u001b[0m\u001b[0;34m\u001b[0m\u001b[0;34m\u001b[0m\u001b[0m\n\u001b[0m",
      "\u001b[0;31mNameError\u001b[0m: name 'BST' is not defined"
     ]
    }
   ],
   "source": [
    "def findHeight(root):\n",
    "    if root is None:\n",
    "        return -1\n",
    "    else:\n",
    "        maxHeight = max(\n",
    "            findHeight(root.leftChild),\n",
    "            findHeight(root.rightChild)\n",
    "                    )\n",
    "        return maxHeight+1\n",
    "    \n",
    "\n",
    "findHeight(BST.root)"
   ]
  },
  {
   "cell_type": "markdown",
   "metadata": {},
   "source": [
    "# Find Nodes at \"k\" distance from the Root"
   ]
  },
  {
   "cell_type": "code",
   "execution_count": 91,
   "metadata": {},
   "outputs": [
    {
     "name": "stdout",
     "output_type": "stream",
     "text": [
      "  ___________200___________________              \n",
      " /                                 \\             \n",
      "50_________             __________642__________  \n",
      "           \\           /                       \\ \n",
      "      ____185        _380____          _______866\n",
      "     /              /        \\        /          \n",
      "    170_          _314     _636_     692_        \n",
      "   /    \\        /        /     \\        \\       \n",
      "  62   183      213      599   640      752_     \n",
      "                                            \\    \n",
      "                                           854   \n"
     ]
    },
    {
     "data": {
      "text/plain": [
       "[]"
      ]
     },
     "execution_count": 91,
     "metadata": {},
     "output_type": "execute_result"
    }
   ],
   "source": [
    "def findKNodes(root, k):\n",
    "    \"\"\"\n",
    "    My solution: O(n)\n",
    "    \"\"\"\n",
    "    # Write your code here\n",
    "    res = []\n",
    "    levelList=levelOrderBST(root, k, res)\n",
    "    return levelList\n",
    "\n",
    "def levelOrderBST(root, k, levelList):\n",
    "\n",
    "    if root is None:\n",
    "        return None\n",
    "\n",
    "    if root:\n",
    "        k-=1\n",
    "        levelOrderBST(root.leftChild, k, levelList)\n",
    "        levelOrderBST(root.rightChild, k, levelList)\n",
    "\n",
    "    if k==0:\n",
    "        levelList.append(root.val)\n",
    "    \n",
    "    return levelList\n",
    "\n",
    "display_tree.display(BST.root)\n",
    "findKNodes(BST.root,7)"
   ]
  },
  {
   "cell_type": "code",
   "execution_count": 84,
   "metadata": {},
   "outputs": [
    {
     "name": "stdout",
     "output_type": "stream",
     "text": [
      "  ___________200___________________              \n",
      " /                                 \\             \n",
      "50_________             __________642__________  \n",
      "           \\           /                       \\ \n",
      "      ____185        _380____          _______866\n",
      "     /              /        \\        /          \n",
      "    170_          _314     _636_     692_        \n",
      "   /    \\        /        /     \\        \\       \n",
      "  62   183      213      599   640      752_     \n",
      "                                            \\    \n",
      "                                           854   \n"
     ]
    },
    {
     "data": {
      "text/plain": [
       "[50, 642]"
      ]
     },
     "execution_count": 84,
     "metadata": {},
     "output_type": "execute_result"
    }
   ],
   "source": [
    "def findKNodes(root, k):\n",
    "    \"\"\"\n",
    "    Solution by educative.io\n",
    "    \"\"\"\n",
    "    res = []\n",
    "    findK(root,k,res)\n",
    "    return res\n",
    "\n",
    "def findK(root,k,res):\n",
    "    if root is None:\n",
    "        return\n",
    "    if k==0:\n",
    "        return res.append(root.val)\n",
    "    else:\n",
    "        # search recursively in both subtree for k-th node\n",
    "        k-=1\n",
    "        findK(root.leftChild, k, res)\n",
    "        findK(root.rightChild, k, res)\n",
    "        \n",
    "display_tree.display(BST.root)\n",
    "findKNodes(BST.root, 1) "
   ]
  },
  {
   "cell_type": "code",
   "execution_count": null,
   "metadata": {},
   "outputs": [],
   "source": []
  },
  {
   "cell_type": "code",
   "execution_count": null,
   "metadata": {},
   "outputs": [],
   "source": []
  }
 ],
 "metadata": {
  "kernelspec": {
   "display_name": "Python [conda env:chi] *",
   "language": "python",
   "name": "conda-env-chi-py"
  },
  "language_info": {
   "codemirror_mode": {
    "name": "ipython",
    "version": 3
   },
   "file_extension": ".py",
   "mimetype": "text/x-python",
   "name": "python",
   "nbconvert_exporter": "python",
   "pygments_lexer": "ipython3",
   "version": "3.7.5"
  }
 },
 "nbformat": 4,
 "nbformat_minor": 4
}
