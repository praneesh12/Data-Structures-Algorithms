{
 "cells": [
  {
   "cell_type": "markdown",
   "metadata": {},
   "source": [
    "# Implementation and Simple algorithms on Linked List\n",
    "\n",
    "```\n",
    "1. Node Class #\n",
    "```\n",
    "The Node class has two components:\n",
    "Data is the value you want to store in the node. Think of it as the value at a specific index in a list. The data type can range from string or integer to a user-defined class. The pointer refers us to the next node in the list. It is essential for connectivity.\n",
    "\n",
    "```\n",
    "2. LinkedList Class #\n",
    "```\n",
    "The linked list itself is a collection of Node objects which we defined above. To keep track of the list, we need a pointer to the first node in the list.\n",
    "This is where the principle of the head node comes in. The head does not contain any data and only points to the beginning of the list. This means that, for any operations on the list, we need to traverse it from the head (the start of the list) to reach our desired node in the list.\n",
    "\n",
    "#### Simple functions\n",
    ">* 1. **get_head()** : This method simply returns the head node of our linked list\n",
    "\n",
    ">* 2. **is_empty()** : Linked list to be considered empty if there are no nodes,i.e. head points to None.\n",
    "\n",
    ">* 3. **Insertion at Head** : This type of insertion means that we want to insert a new element as the first element of the list.\n",
    "                              Newly added node will become the head, which in turn will point to the previous first node.\n",
    "\n",
    ">* 4. **Insertion at Tail** : Element needs to be inserted at the tail. Existing node pointing to None (tail) will point to new node and new node points to None (tail)\n",
    "\n",
    ">* 5. **Insertion at K-th Index** : if k=0 new node at added to head, else traverse through the list index k with previous and current node variables, then\n",
    "                                    previous will point to new node and new node will point to current\n",
    "\n",
    ">* 6. **Search value** : Traverse through the list while checking node value if search value, if found return True else False\n",
    "\n",
    ">* 7. **Recursive search value** : input to func is a node -> `LinkedList.get_head()` \n",
    "                                   base case, node is None (end node reached return None)\n",
    "                                   check if node's data = search value else return recursive call"
   ]
  },
  {
   "cell_type": "code",
   "execution_count": 1,
   "metadata": {},
   "outputs": [],
   "source": [
    "class Node():\n",
    "    def __init__(self, data):\n",
    "        self.data = data # Value stored in node\n",
    "        self.next = None # Pointer to the next node\n",
    "\n",
    "class LinkedList():\n",
    "    def __init__(self):\n",
    "        self.head = None\n",
    "    \n",
    "    def get_head(self):\n",
    "        \"\"\"\n",
    "            Output: returns the head node of our linked list\n",
    "        \"\"\"\n",
    "        return self.head\n",
    "    \n",
    "    def is_empty(self):\n",
    "        \"\"\"\n",
    "        LinkedList is empty if head node is None\n",
    "        \"\"\"\n",
    "        if self.get_head() is None:\n",
    "            return True\n",
    "        else:\n",
    "            return False\n",
    "        \n",
    "    \n",
    "    def insert_at_head(self, data):\n",
    "        \"\"\"\n",
    "        Inserts data at the tail node\n",
    "        \"\"\"\n",
    "        curr_node = Node(data)\n",
    "        curr_node.next = self.head\n",
    "        self.head = curr_node\n",
    "        return self.head\n",
    "    \n",
    "    \n",
    "    def insert_at_tail(self, data):\n",
    "        \"\"\"\n",
    "        Inserts data at the tail node\n",
    "        \"\"\"   \n",
    "        # Check if the list is empty, if it is simply point head to new node\n",
    "        if self.is_empty():\n",
    "            self.head =  Node(data)\n",
    "            return \n",
    "        # Creating a new node\n",
    "        curr_node = Node(data)\n",
    "        # if list not empty, traverse the list to the last node\n",
    "        temp_node = self.head\n",
    "        while temp_node.next is not None:\n",
    "            temp_node = temp_node.next\n",
    "        temp_node.next = curr_node\n",
    "        return\n",
    "    \n",
    "    \n",
    "    def insert_at_index(self, k, data):\n",
    "        new_node = Node(data)\n",
    "        # if k is 0 insert data at head\n",
    "        if k==0:\n",
    "            self.insert_at_head(data)\n",
    "            return\n",
    "        \n",
    "        # Else traverse the list from 1 to k-th index and insert the value\n",
    "        prev = None \n",
    "        curr = self.head\n",
    "        for i in range(1,k):\n",
    "            if curr.next is not None:\n",
    "                prev = curr\n",
    "                curr = curr.next\n",
    "            else:\n",
    "                raise IndexError(\"{} out of range\".format(k))\n",
    "            \n",
    "        new_node.next = curr\n",
    "        prev.next = new_node\n",
    "        return\n",
    "    \n",
    "        \n",
    "    def print_linked_list(self):\n",
    "        if self.is_empty():\n",
    "            print(\"List is Empty....\")\n",
    "            return\n",
    "        curr_node = self.head\n",
    "        while curr_node.next is not None:\n",
    "            print(curr_node.data, end=\"->\")\n",
    "            curr_node = curr_node.next\n",
    "        print(curr_node.data,\"-> None\")\n",
    "        return\n",
    "    \n",
    "    def delete_node_at_head(self):\n",
    "        head_node = self.head\n",
    "        if self.is_empty():\n",
    "            return None\n",
    "        curr = head_node.next\n",
    "        self.head = curr\n",
    "        return\n",
    "        "
   ]
  },
  {
   "cell_type": "code",
   "execution_count": 195,
   "metadata": {},
   "outputs": [
    {
     "name": "stdout",
     "output_type": "stream",
     "text": [
      "9->8->7->6->5->4->3->2->1->0 -> None\n",
      "None\n",
      "Is the Linked List empty True\n",
      "Now insert data at head\n",
      "10 -> None\n",
      "8->10 -> None\n",
      "8->9->10 -> None\n"
     ]
    },
    {
     "data": {
      "text/plain": [
       "True"
      ]
     },
     "execution_count": 195,
     "metadata": {},
     "output_type": "execute_result"
    }
   ],
   "source": [
    "# Search in a linked list\n",
    "\n",
    "def search(lst, value):\n",
    "    curr = lst.get_head()\n",
    "    while curr:\n",
    "        if curr.data == value:\n",
    "            return True\n",
    "        curr = curr.next\n",
    "    return False\n",
    "\n",
    "\n",
    "def recursive_search(node, value):\n",
    "\n",
    "    # Base case\n",
    "    if node is None:\n",
    "        return False\n",
    "    # check if the node's value matches param value\n",
    "    if (node.data is value):\n",
    "        return True\n",
    "    else:\n",
    "        return search_recursive(node.next, value)\n",
    "        \n",
    "        \n",
    "new_ll = LinkedList()\n",
    "for i in range(10):\n",
    "    new_ll.insert_at_head(i)\n",
    "    \n",
    "new_ll.print_linked_list()\n",
    "recursive_search(new_ll.get_head(), 9)\n",
    "\n",
    "\n",
    "ll = LinkedList()\n",
    "print(ll.get_head())\n",
    "print(\"Is the Linked List empty {}\".format(ll.is_empty()))\n",
    "print(\"Now insert data at head\")\n",
    "# ll.insert_at_head(5)\n",
    "\n",
    "ll.insert_at_head(10)\n",
    "ll.print_linked_list()\n",
    "ll.insert_at_head(8)\n",
    "ll.print_linked_list()\n",
    "\n",
    "ll.insert_at_index(2,9)\n",
    "ll.print_linked_list()\n",
    "\n",
    "search(new_ll, 5)"
   ]
  },
  {
   "cell_type": "markdown",
   "metadata": {},
   "source": [
    "---"
   ]
  },
  {
   "cell_type": "markdown",
   "metadata": {},
   "source": [
    "# Delete Values from a Linked List\n",
    ">* a: Deletion at the head\n",
    ">* b: Deletion at the Tail\n",
    ">* c: Deletion at index K\n"
   ]
  },
  {
   "cell_type": "code",
   "execution_count": 3,
   "metadata": {},
   "outputs": [],
   "source": [
    "def delete_node_at_head(lst):\n",
    "    \n",
    "    if lst.is_empty():\n",
    "        return \"Linked List is empty, cannot delete nodes from an empty list\"\n",
    "    \n",
    "    first = lst.get_head()\n",
    "    \n",
    "    if first.next:\n",
    "        next_node = first.next\n",
    "        lst.head = next_node\n",
    "        first = None\n",
    "        \n",
    "    return\n",
    "\n",
    "    \n",
    "def delete_node_at_tail(lst):\n",
    "    \n",
    "    if lst.is_empty():\n",
    "        return \"Linked List is empty, cannot delete nodes from an empty list\"\n",
    "    \n",
    "    curr = lst.get_head()\n",
    "    prev = None\n",
    "    while curr.next is not None:\n",
    "        prev = curr\n",
    "        curr = curr.next\n",
    "    \n",
    "    prev.next = None\n",
    "    return \n",
    "\n",
    "\n",
    "def delete_node_at_index(lst, k):\n",
    "    \n",
    "    if lst.is_empty():\n",
    "        return \"Linked List is empty, cannot delete nodes from an empty list\"\n",
    "    \n",
    "    curr_node = lst.get_head()\n",
    "    prev_node = None\n",
    "    \n",
    "    for i in range(k):\n",
    "\n",
    "        if curr_node.next is not None:\n",
    "            prev_node = curr_node\n",
    "            curr_node = curr_node.next\n",
    "        else:\n",
    "            return \"{} not found in Linked list\".format(k)\n",
    "    \n",
    "    if curr_node.next:\n",
    "        next_node = curr_node.next\n",
    "        prev_node.next = next_node\n",
    "    else:\n",
    "        prev_node.next = None\n",
    "    return \n",
    "\n",
    "def delete_by_value(lst, value):\n",
    "    # Write your code here\n",
    "    if lst.is_empty():\n",
    "        return False\n",
    "\n",
    "    curr = lst.get_head()\n",
    "    prev = None\n",
    "    if curr.data is value:\n",
    "        lst.delete_at_head()\n",
    "        return True\n",
    "    \n",
    "    while curr.next:\n",
    "    \n",
    "        if curr.data is value:\n",
    "            prev.next = curr.next\n",
    "            curr.next = None\n",
    "            return True\n",
    "\n",
    "        prev = curr\n",
    "        curr = curr.next\n",
    "         \n",
    "    return False\n"
   ]
  },
  {
   "cell_type": "code",
   "execution_count": 4,
   "metadata": {},
   "outputs": [
    {
     "name": "stdout",
     "output_type": "stream",
     "text": [
      "Linked List is empty, insert few values....\n",
      "2->4->6->8->10->12->14->16->18->20 -> None\n",
      "\n",
      "Now lets start deletion of some nodes from Linked List......\n",
      "2->4->6->8->10->12->14->16->18->20 -> None\n",
      "\n",
      "Delete element at head\n",
      "4->6->8->10->12->14->16->18->20 -> None\n",
      "\n",
      "Delete element at tail\n",
      "4->6->8->10->12->14->16->18 -> None\n",
      "\n",
      "Delete element at index 3\n",
      "4->6->8->12->14->16->18 -> None\n",
      "\n",
      "Delete element 18\n",
      "4->6->8->12->14->18 -> None\n"
     ]
    }
   ],
   "source": [
    "test_list = LinkedList()\n",
    "if test_list.is_empty():\n",
    "    print(\"Linked List is empty, insert few values....\")\n",
    "    \n",
    "for i in range(20,0,-2):\n",
    "    test_list.insert_at_head(i)\n",
    "test_list.print_linked_list()\n",
    "\n",
    "print(\"\\nNow lets start deletion of some nodes from Linked List......\")\n",
    "\n",
    "test_list.print_linked_list()\n",
    "print(\"\\nDelete element at head\")\n",
    "delete_node_at_head(test_list)\n",
    "test_list.print_linked_list()\n",
    "\n",
    "print(\"\\nDelete element at tail\")\n",
    "delete_node_at_tail(test_list)\n",
    "test_list.print_linked_list()\n",
    "\n",
    "print(\"\\nDelete element at index 3\")\n",
    "delete_node_at_index(test_list, 3)\n",
    "test_list.print_linked_list()\n",
    "\n",
    "\n",
    "print(\"\\nDelete element 18\")\n",
    "delete_by_value(test_list, 16)\n",
    "test_list.print_linked_list()"
   ]
  },
  {
   "cell_type": "markdown",
   "metadata": {},
   "source": [
    "---"
   ]
  },
  {
   "cell_type": "markdown",
   "metadata": {},
   "source": [
    "# Doubly Linked List\n",
    "\n",
    "`Structure of the Doubly Linked List (DLL)`\n",
    "> The only difference between doubly and singly linked lists is that in DLLs each node contains pointers for both the previous and the next node. This makes the DLLs bi-directional."
   ]
  },
  {
   "cell_type": "code",
   "execution_count": 5,
   "metadata": {},
   "outputs": [],
   "source": [
    "class doubleNode():\n",
    "    def __init__(self, data=None):\n",
    "        self.data = data\n",
    "        self.next = None\n",
    "        self.prev = None\n",
    "    \n",
    "class doublyLinkedList():\n",
    "    def __init__(self):\n",
    "        self.head = None\n",
    "    \n",
    "    def get_head(self):\n",
    "        return self.head\n",
    "    \n",
    "    def is_empty(self):\n",
    "        if self.head:\n",
    "            return False\n",
    "        else:\n",
    "            return True\n",
    "    \n",
    "    def insert_at_head(self, data):\n",
    "        temp_node = doubleNode(data)\n",
    "        if self.is_empty():\n",
    "            self.head = temp_node\n",
    "            return self.head\n",
    "        \n",
    "        temp_node.next = self.head\n",
    "        self.head.prev = temp_node\n",
    "        self.head = temp_node\n",
    "        return \n",
    "    \n",
    "    def print_linked_list(self):\n",
    "        if self.is_empty():\n",
    "            print(\"Linked List is empty\")\n",
    "            return\n",
    "        curr_node = self.head\n",
    "        while curr_node.next:\n",
    "            print(curr_node.data,end=\"-> \")\n",
    "            curr_node = curr_node.next\n",
    "        print(curr_node.data,\"-> None\")\n",
    "        return     \n",
    "    "
   ]
  },
  {
   "cell_type": "code",
   "execution_count": 6,
   "metadata": {},
   "outputs": [
    {
     "name": "stdout",
     "output_type": "stream",
     "text": [
      "Linked List is empty\n",
      "5-> 4-> 3-> 2-> 1 -> None\n"
     ]
    }
   ],
   "source": [
    "dll = doublyLinkedList()\n",
    "dll.is_empty()\n",
    "dll.print_linked_list()\n",
    "\n",
    "for i in range(5):\n",
    "    dll.insert_at_head(i+1)\n",
    "dll.print_linked_list()"
   ]
  },
  {
   "cell_type": "markdown",
   "metadata": {},
   "source": [
    "## Delete nodes from a doubly linked list"
   ]
  },
  {
   "cell_type": "code",
   "execution_count": 7,
   "metadata": {},
   "outputs": [
    {
     "name": "stdout",
     "output_type": "stream",
     "text": [
      "5-> 4-> 3-> 2-> 1 -> None\n",
      "5-> 4-> 3 -> None\n"
     ]
    }
   ],
   "source": [
    "def delete_node(lst,value):\n",
    "    # Check if linkedlist is empty\n",
    "    if lst.is_empty():\n",
    "        return \"Linked List is empty, cannot delete nodes\"\n",
    "    \n",
    "    # Get head node from linked list and assign prev, next nodes\n",
    "    curr_node = lst.get_head()\n",
    "    \n",
    "    next_node = curr_node.next\n",
    "    prev_node = curr_node.prev\n",
    "    \n",
    "     # check if value is at head node\n",
    "    if curr_node.data is value:\n",
    "        # Point head to the next element of the first element\n",
    "        lst.head = next_node\n",
    "        # Point the next element of the first element to None\n",
    "        curr_node.next = prev_node\n",
    "        print(str(curr_node.data) + \" Deleted!\")\n",
    "        return\n",
    "    \n",
    "    # Traverse through the ll, check node value, if found reassign \n",
    "    while curr_node.next:\n",
    "         # Link the next node and the previous node to each other\n",
    "        next_node = curr_node.next\n",
    "        prev_node = curr_node.prev\n",
    "        \n",
    "        if curr_node.data is value:\n",
    "            prev_node.next = next_node\n",
    "            next_node.prev = prev_node\n",
    "            print(str(curr_node.data),\" deleted!\")\n",
    "            # previous node pointer was maintained in Singly Linked List\n",
    "            return\n",
    "        curr_node = curr_node.next\n",
    "    \n",
    "    if curr_node.data is value:\n",
    "        prev_node.next = None\n",
    "        return\n",
    "    else:\n",
    "        print(\"Value not found in the list\")\n",
    "        return\n",
    "    \n",
    "            \n",
    "            \n",
    "# Delete node with value 3\n",
    "dll.print_linked_list()\n",
    "\n",
    "# for i in range(6):\n",
    "#     delete_node(dll, i)\n",
    "#     dll.print_linked_list()\n",
    "\n",
    "delete_node(dll, 1)\n",
    "dll.print_linked_list()"
   ]
  },
  {
   "cell_type": "markdown",
   "metadata": {},
   "source": [
    "## Which is Better? #\n",
    "`DLLs have a few advantages over SLLs, but these perks do not come without a cost:`\n",
    "\n",
    ">* Doubly linked lists can be traversed in both directions, which makes them more compatible with complex algorithms.\n",
    "Nodes in doubly linked lists require extra memory to store the previous_element pointer.\n",
    "Deletion is more efficient in doubly linked lists as we do not need to keep track of the previous node. We already have a backwards pointer for it.\n",
    "At this point, we’ve compared the two major types of linked lists. The minor memory load that comes with DLLs can be forgone because of the convenience they provide.\n",
    "\n",
    "\n",
    "This doesn’t mean that DLLs are perfect. There is always room for improvement!\n",
    "Let’s discuss a tweak which can improve the functionality of both types.\n",
    "\n",
    "`Tail Pointer in a Linked List`\n",
    "> The head node is essential for any linked list, but what if we also kept account of the tail of the list? Now, you are aware of both ends of a linked list.\n",
    "  To add the tail functionality, all we have to do is add another member to our LinkedList class:\n",
    "\n",
    "\n",
    "``` python\n",
    "class Node:\n",
    "    def __init__(self, data):\n",
    "        self.data = data\n",
    "        self.next_element = None\n",
    "        self.previous_element = None\n",
    "\n",
    "\n",
    "class LinkedList:\n",
    "    def __init__(self):\n",
    "        self.head_node = None\n",
    "```\n",
    "\n",
    "> In a singly linked list, insert_at_tail now works in O(1). We can simply set the new node as the next_element of the previous end node and update the tail_node.\n",
    " However, the tail really shines in doubly linked lists.\n",
    " Apart from tail operations, insertion and deletion become twice as fast because we can traverse the list from both sides.\n",
    " Here is an illustration of the modified doubly linked list:\n",
    "\n",
    "\n",
    "> The tail updates every time a new node is added at the end or a node is deleted from the end. The good news is that these operations are just as fast as delete_at_head   \n",
    "  and insert_at_head.\n",
    "\n",
    "> We’ve covered all there is to know about the mechanics of linked lists. In the following lessons, we’ll take a look at several coding challenges which test your  \n",
    "  knowledge on linked lists. These exercises will also be explained in detail so don’t shy away from them.\n",
    "\n",
    "\n"
   ]
  },
  {
   "cell_type": "markdown",
   "metadata": {},
   "source": [
    "# Algorithms\n",
    "\n",
    "1. **Find the Length of a Linked List**"
   ]
  },
  {
   "cell_type": "code",
   "execution_count": 8,
   "metadata": {},
   "outputs": [
    {
     "name": "stdout",
     "output_type": "stream",
     "text": [
      "8->9->10 -> None\n",
      "Linked list length -> 3\n",
      "\n",
      "\n",
      "5-> 4-> 3 -> None\n",
      "Doubly linked list length -> 3\n"
     ]
    }
   ],
   "source": [
    "def length(lst):\n",
    "    curr_node = lst.get_head()\n",
    "    counter = 0\n",
    "    if lst.is_empty():\n",
    "        return 0\n",
    "    while curr_node.next:\n",
    "        counter+=1\n",
    "        curr_node = curr_node.next\n",
    "    return counter+1\n",
    "\n",
    "ll.print_linked_list()\n",
    "print(\"Linked list length ->\",length(ll))\n",
    "print(\"\\n\")\n",
    "dll.print_linked_list()\n",
    "print(\"Doubly linked list length ->\",length(dll))"
   ]
  },
  {
   "cell_type": "markdown",
   "metadata": {},
   "source": [
    "1. **Reverse a linked list**\n",
    "\n",
    "> The brain of this solution lies in the loop which iterates through the list. For any current node, its link with the previous node is reversed and next stores the next node in the list:\n",
    ">* Store the current node’s next_element in next\n",
    ">* Set current node’s next_element to previous (reversal)\n",
    ">* Make the current node the new previous so that it can be used for the next iteration\n",
    ">* Use next to move on to the next node\n",
    ">* In the end, we simply point the head to the last node in our loop."
   ]
  },
  {
   "cell_type": "code",
   "execution_count": 9,
   "metadata": {},
   "outputs": [
    {
     "name": "stdout",
     "output_type": "stream",
     "text": [
      "List is Empty....\n",
      "5->4->3->2->1 -> None\n",
      "1->2->3->4->5 -> None\n"
     ]
    }
   ],
   "source": [
    "\n",
    "def reverse_list(lst):\n",
    "    \n",
    "    if lst.is_empty():\n",
    "        print(\"Empty Linked List cannot be reversed\")\n",
    "        return lst\n",
    "    \n",
    "    # To reverse linked, we need to keep track of three things\n",
    "    prev_node = None\n",
    "    curr_node = lst.get_head()\n",
    "    next_node = None\n",
    "    \n",
    "    while curr_node:\n",
    "        next_node = curr_node.next\n",
    "        curr_node.next = prev_node\n",
    "        prev_node = curr_node\n",
    "        curr_node = next_node\n",
    "        \n",
    "        #Set the last element as the new head node\n",
    "        lst.head = prev_node\n",
    "    return lst\n",
    "        \n",
    "        \n",
    "ll = LinkedList()\n",
    "ll.is_empty()\n",
    "ll.print_linked_list()\n",
    "\n",
    "for i in range(5):\n",
    "    ll.insert_at_head(i+1)\n",
    "ll.print_linked_list()  \n",
    "\n",
    "ll = reverse_list(ll)\n",
    "ll.print_linked_list()"
   ]
  },
  {
   "cell_type": "code",
   "execution_count": 10,
   "metadata": {},
   "outputs": [
    {
     "name": "stdout",
     "output_type": "stream",
     "text": [
      "4->3->2->1->0 -> None\n",
      "0->1->2->3->4 -> None\n"
     ]
    }
   ],
   "source": [
    "\n",
    "def reverse_iter(lst):\n",
    "    \n",
    "    prev_node = None\n",
    "    curr_node = lst.get_head()\n",
    "    next_node = None\n",
    "    \n",
    "    while curr_node:\n",
    "        next_node = curr_node.next\n",
    "        curr_node.next = prev_node\n",
    "        # move previous and current ahead\n",
    "        prev_node = curr_node\n",
    "        curr_node = next_node\n",
    "        \n",
    "        # At every iteration assign last element as head\n",
    "        # so that you end up with last element of list as head\n",
    "        lst.head = prev_node\n",
    "        \n",
    "    return lst\n",
    "\n",
    "ll = LinkedList()\n",
    "for i in range(5):\n",
    "    ll.insert_at_head(i)\n",
    "    \n",
    "ll.print_linked_list()\n",
    "reverse_iter(ll)\n",
    "ll.print_linked_list()"
   ]
  },
  {
   "cell_type": "code",
   "execution_count": 45,
   "metadata": {},
   "outputs": [],
   "source": [
    "def reverseUtil(self, curr, prev): \n",
    "        # If last node mark it head \n",
    "        if curr.next is None : \n",
    "            self.head = curr  \n",
    "            # Update next to prev node \n",
    "            curr.next = prev \n",
    "            return \n",
    "          \n",
    "        # Save curr.next node for recursive call \n",
    "        next = curr.next\n",
    "        # And update next  \n",
    "        curr.next = prev\n",
    "        self.reverseUtil(next, curr)  \n",
    "  \n",
    "    # This function mainly calls reverseUtil() \n",
    "    # with previous as None \n",
    "#     def reverse(self): \n",
    "#         if self.head is None: \n",
    "#             return \n",
    "#         self.reverseUtil(self.head, None) \n"
   ]
  },
  {
   "cell_type": "code",
   "execution_count": 25,
   "metadata": {},
   "outputs": [
    {
     "name": "stdout",
     "output_type": "stream",
     "text": [
      "3-> 4-> 5 -> None\n",
      "5-> 4-> 3 -> None\n"
     ]
    }
   ],
   "source": [
    "def rev_ll(lst):\n",
    "    prev=None\n",
    "    curr=lst.head\n",
    "    nxt=None\n",
    "    \n",
    "    while curr:\n",
    "        nxt=curr.next\n",
    "        curr.next=prev\n",
    "        prev=curr\n",
    "        curr=nxt\n",
    "        lst.head=prev\n",
    "    return lst\n",
    "\n",
    "ll = LinkedList()\n",
    "for i in range(5):\n",
    "    ll.insert_at_head(i)\n",
    "    \n",
    "dll.print_linked_list()\n",
    "rev_ll(dll)\n",
    "dll.print_linked_list()"
   ]
  },
  {
   "cell_type": "markdown",
   "metadata": {},
   "source": [
    "-----"
   ]
  },
  {
   "cell_type": "markdown",
   "metadata": {},
   "source": [
    "2. **Detect Loop in a Linked List**"
   ]
  },
  {
   "cell_type": "code",
   "execution_count": 14,
   "metadata": {},
   "outputs": [
    {
     "name": "stdout",
     "output_type": "stream",
     "text": [
      "5->3->2->1->5 -> None\n"
     ]
    },
    {
     "data": {
      "text/plain": [
       "True"
      ]
     },
     "execution_count": 14,
     "metadata": {},
     "output_type": "execute_result"
    }
   ],
   "source": [
    "ll = LinkedList()\n",
    "for i in [5,1,2,3,5]:\n",
    "    ll.insert_at_head(i)\n",
    "ll.print_linked_list()\n",
    "\n",
    "# if last node of the list matches the first\n",
    "# - Its a loop\n",
    "# if any node matches a previously seen node\n",
    "# - check if nodes after following nodes match or not \n",
    "\n",
    "\n",
    "def detect_loop(lst):\n",
    "    \n",
    "    \"\"\"\n",
    "    Set two pointers\n",
    "    Slow pointer moves 1 step at a time\n",
    "    Fast pointer moves 2 steps at a time\n",
    "    \n",
    "    if there exists a loop in linked list, both pointers will be equal after k iterations\n",
    "    \"\"\"\n",
    "    \n",
    "    slow = lst.head\n",
    "    fast = lst.head\n",
    "    \n",
    "    while slow and fast and fast.next:\n",
    "        \n",
    "        if slow.data == fast.data:\n",
    "            return True\n",
    "        slow=slow.next\n",
    "        fast=fast.next.next\n",
    "\n",
    "    return False\n",
    "            \n",
    "            \n",
    "detect_loop(ll)"
   ]
  },
  {
   "cell_type": "code",
   "execution_count": 15,
   "metadata": {
    "collapsed": true
   },
   "outputs": [
    {
     "name": "stdout",
     "output_type": "stream",
     "text": [
      "Loop 0 for slow pointer\n",
      "Loop 0 for fast pointer\n",
      "Difference: -4\n",
      "Loop 0 for slow pointer\n",
      "Loop 0 for fast pointer\n",
      "Difference: -8\n",
      "Loop 0 for slow pointer\n",
      "Loop 0 for fast pointer\n",
      "Difference: -1\n",
      "Loop 0 for slow pointer\n",
      "Loop 0 for fast pointer\n",
      "Difference: -2\n",
      "Loop 0 for slow pointer\n",
      "Loop 0 for fast pointer\n",
      "Difference: -23\n",
      "Loop 0 for slow pointer\n",
      "Loop 0 for fast pointer\n",
      "Difference: 1\n",
      "Loop 0 for slow pointer\n",
      "Loop 0 for fast pointer\n",
      "Difference: 12\n",
      "Loop 0 for slow pointer\n",
      "Loop 0 for fast pointer\n",
      "Difference: 9\n",
      "Loop 0 for slow pointer\n",
      "Loop 0 for fast pointer\n",
      "Difference: -6\n",
      "Loop 0 for slow pointer\n",
      "Loop 0 for fast pointer\n",
      "Difference: 0\n",
      "{0: 0, 1: 4, 2: 4, 3: 12, 4: 4, 5: 5, 6: 24, 7: 14, 8: 8, 9: 27} 27 27\n",
      "Found collision\n"
     ]
    },
    {
     "data": {
      "text/plain": [
       "True"
      ]
     },
     "execution_count": 15,
     "metadata": {},
     "output_type": "execute_result"
    }
   ],
   "source": [
    "import numpy as np\n",
    "def check_collision(d):\n",
    "    x=0\n",
    "    y=1\n",
    "    l=0\n",
    "    while l<100:\n",
    "        l = x//len(d)\n",
    "        print(\"Loop {} for slow pointer\".format(l))\n",
    "        print(\"Loop {} for fast pointer\".format(l//2))\n",
    "        \n",
    "        if x>=len(d):\n",
    "            x-=len(d)\n",
    "        elif y>=len(d):\n",
    "            y-=len(d)\n",
    "            \n",
    "        print(\"Difference: {}\".format(d[x]-d[y]))\n",
    "        if d[x] == d[y]:\n",
    "            print(d, d[x], d[y])\n",
    "            print(\"Found collision\")\n",
    "            return True\n",
    "        \n",
    "        x+=1\n",
    "        y+=2\n",
    "\n",
    "    return False\n",
    "\n",
    "d = {idx:idx*np.random.randint(5) for idx in range(10)}\n",
    "check_collision(d)"
   ]
  },
  {
   "cell_type": "code",
   "execution_count": 16,
   "metadata": {},
   "outputs": [],
   "source": [
    "\n",
    "def check_collision(d):\n",
    "    \n",
    "    t = [[0,0],[0,0]]\n",
    "    x=0\n",
    "    y=0\n",
    "    l=0\n",
    "    while l<20 and x<len(d) and y<len(d):\n",
    "        l = x//len(d)\n",
    "        print(\"Loop {} for slow pointer\".format(l))\n",
    "        print(\"Loop {} for fast pointer\".format(l//2))\n",
    "        \n",
    "        \n",
    "        if d[x] == d[y]:\n",
    "            print(d[x], d[y])\n",
    "            print(\"Found collision\")\n",
    "            return True\n",
    "        x+=1\n",
    "        y+=2\n",
    "\n",
    "    return False"
   ]
  },
  {
   "cell_type": "code",
   "execution_count": null,
   "metadata": {},
   "outputs": [],
   "source": []
  },
  {
   "cell_type": "markdown",
   "metadata": {},
   "source": [
    "# Delete Duplicates from a sorted Linked List\n",
    ">* Two pointer approach will only work in a sorted linked list\n",
    ">* If list is not sorted, use hash table"
   ]
  },
  {
   "cell_type": "code",
   "execution_count": 182,
   "metadata": {},
   "outputs": [
    {
     "name": "stdout",
     "output_type": "stream",
     "text": [
      "1->1->1->1->1->2->2->2->2->2 -> None\n"
     ]
    }
   ],
   "source": [
    "ll = LinkedList()\n",
    "for i in range(10):\n",
    "    if i<5:\n",
    "        ll.insert_at_head(2)\n",
    "    else:\n",
    "        ll.insert_at_head(1)\n",
    "        \n",
    "ll.print_linked_list()"
   ]
  },
  {
   "cell_type": "code",
   "execution_count": 117,
   "metadata": {},
   "outputs": [
    {
     "name": "stdout",
     "output_type": "stream",
     "text": [
      "1->1->1->1->1->2->2->2->2->2->3 -> None\n",
      "1->2->3 -> None\n"
     ]
    }
   ],
   "source": [
    "\n",
    "# Algorithm\n",
    "# Loop through the linked list \n",
    "# keep track of elements in seen \n",
    "# if count of element increase by \n",
    "\n",
    "def drop_duplicates_from_sorted_list(lst):\n",
    "    \n",
    "    prev = lst.head\n",
    "    curr = lst.head.next\n",
    "    \n",
    "    while curr:\n",
    "        if curr.data!=prev.data:\n",
    "            prev.next = curr\n",
    "            prev=curr\n",
    "            \n",
    "        curr = curr.next\n",
    "        \n",
    "    prev.next = None\n",
    "        \n",
    "    return lst\n",
    "\n",
    "ll.insert_at_tail(3)\n",
    "ll.print_linked_list()\n",
    "drop_duplicates_from_sorted_list(ll)\n",
    "ll.print_linked_list()"
   ]
  },
  {
   "cell_type": "code",
   "execution_count": 137,
   "metadata": {},
   "outputs": [],
   "source": [
    "\n",
    "def remove_duplicates(lst):\n",
    "    current_node = lst.get_head()\n",
    "    prev_node = lst.get_head()\n",
    "    # To store values of nodes which we already visited\n",
    "    visited_nodes = set()\n",
    "    # If List is not empty and there is more than 1 element in List\n",
    "    if not lst.is_empty() and current_node.next:\n",
    "        while current_node:\n",
    "            value = current_node.data\n",
    "            if value in visited_nodes:\n",
    "                # current_node is already in the HashSet\n",
    "                # connect prev_node with current_node's next element\n",
    "                # to remove it\n",
    "                prev_node.next = current_node.next\n",
    "                current_node = current_node.next\n",
    "                continue\n",
    "            # Visiting currentNode for first time\n",
    "            visited_nodes.add(current_node.data)\n",
    "            prev_node = current_node\n",
    "            current_node = current_node.next\n"
   ]
  },
  {
   "cell_type": "code",
   "execution_count": 198,
   "metadata": {},
   "outputs": [
    {
     "name": "stdout",
     "output_type": "stream",
     "text": [
      "2->3->2->5->2->3->2->3->2->5 -> None\n",
      "2->3->5 -> None\n"
     ]
    }
   ],
   "source": [
    "def drop_duplicates(lst):\n",
    "    \"\"\"\n",
    "       Duplicates are dropped using hash set\n",
    "       Works for both sorted and unsorted linked list\n",
    "    \"\"\"\n",
    "    prev = lst.get_head()\n",
    "    curr = lst.get_head()\n",
    "    # Store values of nodes we already visited\n",
    "    visited_nodes = set()\n",
    "    if lst.is_empty() or curr.next is None:\n",
    "        return lst\n",
    "        \n",
    "    while curr:\n",
    "        # If curr node not in visited nodes set\n",
    "        if curr.data in visited_nodes:\n",
    "            prev.next = curr.next\n",
    "            curr = curr.next\n",
    "            continue\n",
    "        visited_nodes.add(curr.data)\n",
    "        # Move previous to current node and move current node to next\n",
    "        prev = curr\n",
    "        curr = curr.next\n",
    "\n",
    "    \n",
    "ll = LinkedList()\n",
    "for i in range(10):\n",
    "    if i%2:\n",
    "        ll.insert_at_head(2)\n",
    "    elif i%3:\n",
    "        ll.insert_at_head(3)\n",
    "    else:\n",
    "        ll.insert_at_head(5)\n",
    "        \n",
    "        \n",
    "ll.print_linked_list()              \n",
    "drop_duplicates(ll)\n",
    "ll.print_linked_list()"
   ]
  },
  {
   "cell_type": "code",
   "execution_count": 189,
   "metadata": {},
   "outputs": [
    {
     "name": "stdout",
     "output_type": "stream",
     "text": [
      "2->3->5 -> None\n",
      "3->2 -> None\n"
     ]
    }
   ],
   "source": [
    "ll.print_linked_list()\n",
    "\n",
    "ll2 = LinkedList()\n",
    "for i in range(3):\n",
    "    if i%2:\n",
    "        ll2.insert_at_head(2)\n",
    "    elif i%3:\n",
    "        ll2.insert_at_head(3)\n",
    "\n",
    "        \n",
    "ll2.print_linked_list()"
   ]
  },
  {
   "cell_type": "markdown",
   "metadata": {},
   "source": [
    "# Union of two lists\n"
   ]
  },
  {
   "cell_type": "code",
   "execution_count": 190,
   "metadata": {},
   "outputs": [
    {
     "name": "stdout",
     "output_type": "stream",
     "text": [
      "2->3->5 -> None\n",
      "List1 -> None\n",
      "3->2 -> None\n",
      "List2 -> None\n"
     ]
    }
   ],
   "source": [
    "def union(lst1, lst2):\n",
    "    \n",
    "    if lst1.is_empty():\n",
    "        return lst2\n",
    "    \n",
    "    if lst2.is_empty():\n",
    "        return lst1\n",
    "    \n",
    "    curr = lst1.get_head()\n",
    "    prev=None\n",
    "    while curr:\n",
    "        prev=curr\n",
    "        curr=curr.next\n",
    "    \n",
    "    prev.next = lst2.get_head()\n",
    "    drop_duplicates(lst1)\n",
    "    return lst1\n",
    "\n",
    "print(\"List1 ->\",ll.print_linked_list())\n",
    "print(\"List2 ->\",ll2.print_linked_list())\n",
    "# union(ll,ll2)\n",
    "# print(\"Union of List1 and List2 ->\",ll.print_linked_list())"
   ]
  },
  {
   "cell_type": "code",
   "execution_count": 185,
   "metadata": {},
   "outputs": [
    {
     "name": "stdout",
     "output_type": "stream",
     "text": [
      "1->2->3 -> None\n",
      "Union of List1 and List2 -> None\n"
     ]
    }
   ],
   "source": [
    "union(ll, ll2)\n",
    "print(\"Union of List1 and List2 ->\",ll.print_linked_list())"
   ]
  },
  {
   "cell_type": "markdown",
   "metadata": {},
   "source": [
    "# Intersection of two lists\n",
    "\n",
    ">* The time complexity will be \n",
    ">* max(O(mn),O(min(m,n)**2))\n",
    "\n",
    "where m is the size of the first list and n is the size of the second list."
   ]
  },
  {
   "cell_type": "code",
   "execution_count": 200,
   "metadata": {},
   "outputs": [
    {
     "name": "stdout",
     "output_type": "stream",
     "text": [
      "2->3->5 -> None\n"
     ]
    }
   ],
   "source": [
    "def search(lst, value):\n",
    "    curr = lst.get_head()\n",
    "    while curr:\n",
    "        if curr.data == value:\n",
    "            return True\n",
    "        curr = curr.next\n",
    "    return False\n",
    "\n",
    "def intersection(lst1, lst2):\n",
    "    # Initialize an empty LinkedList\n",
    "    result = LinkedList()\n",
    "    curr = lst1.get_head()\n",
    "    \n",
    "    # Traversing list1 and searching in list2\n",
    "    # insert in result if the value exists\n",
    "    while curr:\n",
    "        value = curr.data\n",
    "        if search(lst2, value):\n",
    "            result.insert_at_head(value)\n",
    "        curr = curr.next\n",
    "        \n",
    "    # Remove duplicates if any\n",
    "    drop_duplicates(result)\n",
    "    \n",
    "    return result\n",
    "\n",
    "        \n",
    "intersection(ll, ll2)  \n",
    "ll.print_linked_list()"
   ]
  },
  {
   "cell_type": "markdown",
   "metadata": {},
   "source": [
    "# Intersection of Linked Lists using HashMaps\n",
    "Time Complexity drops to O(n)\n"
   ]
  },
  {
   "cell_type": "code",
   "execution_count": 202,
   "metadata": {},
   "outputs": [],
   "source": [
    "def union(list1, list2):\n",
    "    # Return other List if one of them is empty\n",
    "    if (list1.is_empty()):\n",
    "        return list2\n",
    "    elif (list2.is_empty()):\n",
    "        return list1\n",
    "    \n",
    "    unique_values = set()\n",
    "    result = LinkedList()\n",
    "\n",
    "    start = list1.get_head()\n",
    "\n",
    "    # Traverse the first list till the tail\n",
    "    while start:\n",
    "        unique_values.add(start.data)\n",
    "        start = start.next_element\n",
    "\n",
    "    start = list2.get_head()\n",
    "\n",
    "    # Traverse the second list till the tail\n",
    "    while start:\n",
    "        unique_values.add(start.data)\n",
    "        start = start.next_element\n",
    "    \n",
    "    # Add elements of unique_vales to result\n",
    "    for x in unique_values:\n",
    "        result.insert_at_head(x)\n",
    "    return result"
   ]
  },
  {
   "cell_type": "code",
   "execution_count": null,
   "metadata": {},
   "outputs": [],
   "source": []
  },
  {
   "cell_type": "code",
   "execution_count": null,
   "metadata": {},
   "outputs": [],
   "source": []
  },
  {
   "cell_type": "code",
   "execution_count": null,
   "metadata": {},
   "outputs": [],
   "source": []
  },
  {
   "cell_type": "code",
   "execution_count": null,
   "metadata": {},
   "outputs": [],
   "source": []
  }
 ],
 "metadata": {
  "kernelspec": {
   "display_name": "Python [conda env:chi] *",
   "language": "python",
   "name": "conda-env-chi-py"
  },
  "language_info": {
   "codemirror_mode": {
    "name": "ipython",
    "version": 3
   },
   "file_extension": ".py",
   "mimetype": "text/x-python",
   "name": "python",
   "nbconvert_exporter": "python",
   "pygments_lexer": "ipython3",
   "version": "3.7.5"
  }
 },
 "nbformat": 4,
 "nbformat_minor": 4
}
