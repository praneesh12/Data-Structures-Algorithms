{
 "cells": [
  {
   "cell_type": "markdown",
   "metadata": {},
   "source": [
    "# Find Symmetric Pairs in a List\n",
    ">* By definition, (a, b) and (c, d) are symmetric pairs iff, a = d and b = c. In this problem, you have to implement the find_symmetric(list) function which will find all the symmetric pairs in a given list."
   ]
  },
  {
   "cell_type": "code",
   "execution_count": 57,
   "metadata": {},
   "outputs": [],
   "source": [
    "a = [[1, 2], [3, 4], [5, 9], [4, 3], [9, 5]]\n",
    "\n",
    "def find_symmetry(a):\n",
    "    return_array = []\n",
    "    d={}\n",
    "    for i in range(len(a)):\n",
    "        d[i] = set(a[i])\n",
    "\n",
    "    for k,v in d.items():\n",
    "        if v in list(d.values())[k+1:]:\n",
    "            return_array.append(list(v))\n",
    "            return_array.append(list(reversed(list(v))))\n",
    "            \n",
    "    return return_array"
   ]
  },
  {
   "cell_type": "code",
   "execution_count": null,
   "metadata": {},
   "outputs": [],
   "source": []
  },
  {
   "cell_type": "code",
   "execution_count": 99,
   "metadata": {},
   "outputs": [
    {
     "name": "stdout",
     "output_type": "stream",
     "text": [
      "{(1, 2): 0}\n",
      "{(1, 2): 0, (3, 4): 1}\n",
      "{(1, 2): 0, (3, 4): 1, (5, 9): 2}\n",
      "{(1, 2): 0, (3, 4): 1, (5, 9): 2}\n",
      "{(1, 2): 0, (3, 4): 1, (5, 9): 2}\n"
     ]
    },
    {
     "data": {
      "text/plain": [
       "[[4, 3], [3, 4], [9, 5], [5, 9]]"
      ]
     },
     "execution_count": 99,
     "metadata": {},
     "output_type": "execute_result"
    }
   ],
   "source": [
    "# Approach 2: Using tuple, reverse the tuple while iterating and then check if the reversed tuple exists in the array\n",
    "\n",
    "\n",
    "def find_symmetry(a):\n",
    "    \n",
    "    result=[]\n",
    "    return_array=[]\n",
    "    pair_set = set()\n",
    "    \n",
    "    d={}\n",
    "    \n",
    "    for i in range(len(a)):\n",
    "        # Initialize the existing pair and create a reversed pair\n",
    "\n",
    "        init_tuple = tuple(a[i])\n",
    "        a[i].reverse()\n",
    "        reverse_tuple = tuple(a[i])\n",
    "\n",
    "        # Check if the reversed pair exists in the array\n",
    "\n",
    "        if (reverse_tuple not in pair_set):\n",
    "            pair_set.add(init_tuple)\n",
    "        else:\n",
    "            return_array.append(list(init_tuple))\n",
    "            return_array.append(list(reverse_tuple))\n",
    "        \n",
    "        if reverse_tuple not in d:\n",
    "            d[init_tuple] = i\n",
    "        \n",
    "        else:\n",
    "            result.append(list(init_tuple))\n",
    "            result.append(list(reverse_tuple))\n",
    "            \n",
    "    return result\n",
    "\n",
    "find_symmetry(a)"
   ]
  },
  {
   "cell_type": "markdown",
   "metadata": {},
   "source": [
    "## Lessons learned\n",
    ">* We can use either hash set (set) or Hash Table (dictionary). Important thing to remember while working with 2-D array\n",
    ">* Only immutable objects can be assigned as keys of a dictionary like integers, strings, boolean and not lists or another dict\n",
    ">* However, we can assign a tuple as a key of dictionary since tuples are immutable objects \n",
    ">* This is useful while working on 2-D arrays"
   ]
  },
  {
   "cell_type": "markdown",
   "metadata": {},
   "source": [
    "# Trace the complete path of the journey"
   ]
  },
  {
   "cell_type": "code",
   "execution_count": 191,
   "metadata": {},
   "outputs": [],
   "source": [
    "d = {\n",
    "  \"NewYork\": \"Chicago\",\n",
    "  \"Boston\": \"Texas\",\n",
    "  \"Missouri\": \"NewYork\",\n",
    "  \"Texas\": \"Missouri\"\n",
    "}\n",
    "output = [[\"Boston\", \"Texas\"] , [\"Texas\", \"Missouri\"] , [\"Missouri\", \"NewYork\"] , [\"NewYork\", \"Chicago\"]]\n",
    "\n",
    "def trace_path(my_dict):\n",
    "    result=[]\n",
    "    for k,v in my_dict.items():\n",
    "        if v in my_dict.keys() and len(result)<len(my_dict):\n",
    "            result.append([k,v])\n",
    "            result.append([v, d[v]])\n",
    "            \n",
    "    return result"
   ]
  },
  {
   "cell_type": "code",
   "execution_count": 205,
   "metadata": {},
   "outputs": [],
   "source": [
    "temp_dict={\n",
    "           'a':'x', \n",
    "           'b':'z',\n",
    "           'p':'abcdefg',\n",
    "           'c':'y',\n",
    "           'd':'p',\n",
    "           'x':'b',\n",
    "           'y':'m',\n",
    "           'z':'c',\n",
    "           'm':'d'\n",
    "          }\n",
    "\n",
    "def find_travel_path(temp_dict):\n",
    "    \n",
    "    result=[]\n",
    "    i=0\n",
    "    key_list=list(temp_dict.keys())\n",
    "    key=key_list[0]\n",
    "    while i<len(temp_dict)-1:\n",
    "\n",
    "        if temp_dict[key] in temp_dict.keys():\n",
    "            result.append([key, temp_dict[key]])\n",
    "\n",
    "            next_key = temp_dict[key]\n",
    "            next_value = temp_dict[temp_dict[key]]\n",
    "\n",
    "            result.append([next_key, next_value])\n",
    "            key = next_value\n",
    "\n",
    "        else:\n",
    "            destination_key = key\n",
    "            destination = temp_dict[key]\n",
    "            i+=1\n",
    "#             print(i)\n",
    "#             key = key_list[i]\n",
    "\n",
    "    result.append([destination_key, destination])\n",
    "    \n",
    "    return result\n",
    "\n",
    "# find_travel_path(temp_dict)"
   ]
  },
  {
   "cell_type": "code",
   "execution_count": 219,
   "metadata": {},
   "outputs": [
    {
     "name": "stdout",
     "output_type": "stream",
     "text": [
      "source_key Boston\n"
     ]
    },
    {
     "data": {
      "text/plain": [
       "[['Boston', 'Texas'],\n",
       " ['Texas', 'Missouri'],\n",
       " ['Missouri', 'NewYork'],\n",
       " ['NewYork', 'Chicago']]"
      ]
     },
     "execution_count": 219,
     "metadata": {},
     "output_type": "execute_result"
    }
   ],
   "source": [
    "# Approach 2: reverse the key:value pairs of the dictionary d1 and store in a new dictionary d1\n",
    "# now check if key of d2 exists in d1 then append k,v to result set\n",
    "# else destination key found, store destination key and append after the loop completes\n",
    "\n",
    "def trace_path(temp_dict):\n",
    "    result=[]\n",
    "    rev_dict = {v:k for k,v in temp_dict.items()}\n",
    "\n",
    "    for k,v in temp_dict.items():\n",
    "        if k not in rev_dict.keys():\n",
    "            source_key = k\n",
    "    \n",
    "    print(\"source_key\",source_key)\n",
    "    key=source_key  \n",
    "    while temp_dict.get(key):\n",
    "\n",
    "        result.append([key, temp_dict[key]])\n",
    "        key = temp_dict[key]\n",
    "        \n",
    "    return result\n",
    "    \n",
    "trace_path(d)"
   ]
  },
  {
   "cell_type": "markdown",
   "metadata": {},
   "source": [
    ">* Create a reverse dict of the given dict i.e if the given dict has (N,C)\n",
    ">* then reverse dict will have (C,N) as key-value pair\n",
    ">* Traverse original dict and see if it's key exists in reverse dict\n",
    ">* If it doesn't exist then we found our starting point.\n",
    ">* After the starting point is found, simply trace the complete path\n",
    ">* from the original dict."
   ]
  },
  {
   "cell_type": "code",
   "execution_count": 197,
   "metadata": {},
   "outputs": [
    {
     "data": {
      "text/plain": [
       "'abcdefg'"
      ]
     },
     "execution_count": 197,
     "metadata": {},
     "output_type": "execute_result"
    }
   ],
   "source": [
    "temp_dict.get('p')"
   ]
  },
  {
   "cell_type": "code",
   "execution_count": null,
   "metadata": {},
   "outputs": [],
   "source": []
  }
 ],
 "metadata": {
  "kernelspec": {
   "display_name": "Python [conda env:chi] *",
   "language": "python",
   "name": "conda-env-chi-py"
  },
  "language_info": {
   "codemirror_mode": {
    "name": "ipython",
    "version": 3
   },
   "file_extension": ".py",
   "mimetype": "text/x-python",
   "name": "python",
   "nbconvert_exporter": "python",
   "pygments_lexer": "ipython3",
   "version": "3.7.5"
  }
 },
 "nbformat": 4,
 "nbformat_minor": 4
}
