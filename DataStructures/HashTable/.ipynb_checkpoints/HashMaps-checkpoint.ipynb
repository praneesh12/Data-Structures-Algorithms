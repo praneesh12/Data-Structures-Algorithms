{
 "cells": [
  {
   "cell_type": "markdown",
   "metadata": {},
   "source": [
    "# Find Symmetric Pairs in a List\n",
    ">* By definition, (a, b) and (c, d) are symmetric pairs iff, a = d and b = c. In this problem, you have to implement the find_symmetric(list) function which will find all the symmetric pairs in a given list."
   ]
  },
  {
   "cell_type": "code",
   "execution_count": 57,
   "metadata": {},
   "outputs": [],
   "source": [
    "a = [[1, 2], [3, 4], [5, 9], [4, 3], [9, 5]]\n",
    "\n",
    "def find_symmetry(a):\n",
    "    return_array = []\n",
    "    d={}\n",
    "    for i in range(len(a)):\n",
    "        d[i] = set(a[i])\n",
    "\n",
    "    for k,v in d.items():\n",
    "        if v in list(d.values())[k+1:]:\n",
    "            return_array.append(list(v))\n",
    "            return_array.append(list(reversed(list(v))))\n",
    "            \n",
    "    return return_array"
   ]
  },
  {
   "cell_type": "code",
   "execution_count": null,
   "metadata": {},
   "outputs": [],
   "source": []
  },
  {
   "cell_type": "code",
   "execution_count": 99,
   "metadata": {},
   "outputs": [
    {
     "name": "stdout",
     "output_type": "stream",
     "text": [
      "{(1, 2): 0}\n",
      "{(1, 2): 0, (3, 4): 1}\n",
      "{(1, 2): 0, (3, 4): 1, (5, 9): 2}\n",
      "{(1, 2): 0, (3, 4): 1, (5, 9): 2}\n",
      "{(1, 2): 0, (3, 4): 1, (5, 9): 2}\n"
     ]
    },
    {
     "data": {
      "text/plain": [
       "[[4, 3], [3, 4], [9, 5], [5, 9]]"
      ]
     },
     "execution_count": 99,
     "metadata": {},
     "output_type": "execute_result"
    }
   ],
   "source": [
    "# Approach 2: Using tuple, reverse the tuple while iterating and then check if the reversed tuple exists in the array\n",
    "\n",
    "\n",
    "def find_symmetry(a):\n",
    "    \n",
    "    result=[]\n",
    "    return_array=[]\n",
    "    pair_set = set()\n",
    "    \n",
    "    d={}\n",
    "    \n",
    "    for i in range(len(a)):\n",
    "        # Initialize the existing pair and create a reversed pair\n",
    "\n",
    "        init_tuple = tuple(a[i])\n",
    "        a[i].reverse()\n",
    "        reverse_tuple = tuple(a[i])\n",
    "\n",
    "        # Check if the reversed pair exists in the array\n",
    "\n",
    "        if (reverse_tuple not in pair_set):\n",
    "            pair_set.add(init_tuple)\n",
    "        else:\n",
    "            return_array.append(list(init_tuple))\n",
    "            return_array.append(list(reverse_tuple))\n",
    "        \n",
    "        if reverse_tuple not in d:\n",
    "            d[init_tuple] = i\n",
    "        \n",
    "        else:\n",
    "            result.append(list(init_tuple))\n",
    "            result.append(list(reverse_tuple))\n",
    "            \n",
    "    return result\n",
    "\n",
    "find_symmetry(a)"
   ]
  },
  {
   "cell_type": "markdown",
   "metadata": {},
   "source": [
    "## Lessons learned\n",
    ">* We can use either hash set (set) or Hash Table (dictionary). Important thing to remember while working with 2-D array\n",
    ">* Only immutable objects can be assigned as keys of a dictionary like integers, strings, boolean and not lists or another dict\n",
    ">* However, we can assign a tuple as a key of dictionary since tuples are immutable objects \n",
    ">* This is useful while working on 2-D arrays"
   ]
  },
  {
   "cell_type": "code",
   "execution_count": null,
   "metadata": {},
   "outputs": [],
   "source": []
  },
  {
   "cell_type": "code",
   "execution_count": null,
   "metadata": {},
   "outputs": [],
   "source": []
  },
  {
   "cell_type": "code",
   "execution_count": null,
   "metadata": {},
   "outputs": [],
   "source": []
  },
  {
   "cell_type": "code",
   "execution_count": null,
   "metadata": {},
   "outputs": [],
   "source": []
  },
  {
   "cell_type": "code",
   "execution_count": null,
   "metadata": {},
   "outputs": [],
   "source": []
  },
  {
   "cell_type": "code",
   "execution_count": null,
   "metadata": {},
   "outputs": [],
   "source": []
  }
 ],
 "metadata": {
  "kernelspec": {
   "display_name": "Python [conda env:chi] *",
   "language": "python",
   "name": "conda-env-chi-py"
  },
  "language_info": {
   "codemirror_mode": {
    "name": "ipython",
    "version": 3
   },
   "file_extension": ".py",
   "mimetype": "text/x-python",
   "name": "python",
   "nbconvert_exporter": "python",
   "pygments_lexer": "ipython3",
   "version": "3.7.5"
  }
 },
 "nbformat": 4,
 "nbformat_minor": 4
}
