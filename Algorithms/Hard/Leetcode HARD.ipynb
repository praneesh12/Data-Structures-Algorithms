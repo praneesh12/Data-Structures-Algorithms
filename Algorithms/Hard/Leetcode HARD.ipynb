{
 "cells": [
  {
   "cell_type": "markdown",
   "metadata": {},
   "source": [
    "# Product Without Self"
   ]
  },
  {
   "cell_type": "code",
   "execution_count": 22,
   "metadata": {},
   "outputs": [
    {
     "name": "stdout",
     "output_type": "stream",
     "text": [
      "None\n"
     ]
    },
    {
     "data": {
      "text/plain": [
       "[None, None]"
      ]
     },
     "execution_count": 22,
     "metadata": {},
     "output_type": "execute_result"
    }
   ],
   "source": [
    "def productExceptSelf(nums):\n",
    "    \"\"\"\n",
    "    Brute Force - O(n2)\n",
    "    \"\"\"\n",
    "    if len(nums) <= 1:\n",
    "        return \n",
    "    \n",
    "    zeroFound = False\n",
    "    product = None\n",
    "    for i in range(len(nums)):\n",
    "        if nums[i]==0:\n",
    "            zeroFound=True\n",
    "            \n",
    "        elif not product: \n",
    "            product = nums[i]\n",
    "        else:\n",
    "            product *= nums[i]\n",
    "            \n",
    "    print(product)\n",
    "\n",
    "    res = []\n",
    "    for i in range(len(nums)):\n",
    "        if zeroFound:\n",
    "            if nums[i] == 0:\n",
    "                res.append(product)\n",
    "            else:\n",
    "                res.append(0)\n",
    "        else:\n",
    "            res.append(int(product/nums[i]))\n",
    "    return res\n",
    "\n",
    "nums = [0,0]\n",
    "\n",
    "productExceptSelf(nums)"
   ]
  },
  {
   "cell_type": "code",
   "execution_count": 34,
   "metadata": {},
   "outputs": [
    {
     "data": {
      "text/plain": [
       "[120, 240, 360, 480, 600]"
      ]
     },
     "execution_count": 34,
     "metadata": {},
     "output_type": "execute_result"
    }
   ],
   "source": [
    "def productExceptSelf(nums):\n",
    "      \n",
    "    if len(nums) <= 1: \n",
    "        return \n",
    "    L = [nums[0]]\n",
    "    R = [nums[-1]]\n",
    "\n",
    "    for i in range(1, len(nums)):\n",
    "        L.append(nums[i]*L[i-1])\n",
    "\n",
    "    for i in range(1,len(nums)):\n",
    "      \n",
    "        R.append(nums[-i-1]*R[i-1])\n",
    "\n",
    "\n",
    "    res=[]\n",
    "    n = len(R)-1\n",
    "    for i in range(len(L)):\n",
    "        res.append(L[i]*R[n-i])\n",
    "\n",
    "    return res\n",
    "\n",
    "\n",
    "nums = [1,2,3,4,5]\n",
    "\n",
    "productExceptSelf(nums)"
   ]
  },
  {
   "cell_type": "markdown",
   "metadata": {},
   "source": [
    "# Spiral Matrix"
   ]
  },
  {
   "cell_type": "code",
   "execution_count": 86,
   "metadata": {},
   "outputs": [
    {
     "name": "stdout",
     "output_type": "stream",
     "text": [
      "1 2 [1, 2, 3]\n",
      "2 1 [1, 2, 3, 6, 9]\n"
     ]
    }
   ],
   "source": [
    "def spiralOrder(mat):\n",
    "    res = []\n",
    "    \n",
    "    return res\n",
    "\n",
    "\n",
    "mat = [\n",
    "    [1,2,3],\n",
    "    [4,5,6],\n",
    "    [7,8,9]\n",
    "]\n",
    "\n",
    "\n",
    "res = [1,2,3,6,9,8,7,4,5]\n",
    "\n",
    "def spiralMatrix(mat):\n",
    "    m=len(mat)\n",
    "    n=len(mat[0])\n",
    "    res = []\n",
    "    i = 0 \n",
    "    j = 0\n",
    "    \n",
    "    while j<n:\n",
    "        res.append(mat[i][j])\n",
    "        j+=1\n",
    "        \n",
    "    if j>=n:\n",
    "        j-=1\n",
    "        i+=1\n",
    "    print(i, j, res)\n",
    "    \n",
    "    while i<m:\n",
    "        res.append(mat[i][j])\n",
    "        i+=1\n",
    "    \n",
    "    print(i, j, res)\n",
    "    \n",
    "        \n",
    "spiralMatrix(mat)"
   ]
  },
  {
   "cell_type": "markdown",
   "metadata": {},
   "source": [
    "# Smallest Positive Integer"
   ]
  },
  {
   "cell_type": "code",
   "execution_count": 3,
   "metadata": {},
   "outputs": [
    {
     "data": {
      "text/plain": [
       "2"
      ]
     },
     "execution_count": 3,
     "metadata": {},
     "output_type": "execute_result"
    }
   ],
   "source": [
    "def firstMissingPositive(nums):\n",
    "    nums.sort()\n",
    "    small = 1\n",
    "\n",
    "    for i in range(len(nums)):\n",
    "        if nums[i] <0: continue\n",
    "        if nums[i] <= small:\n",
    "            small = nums[i]+1\n",
    "\n",
    "    return small\n",
    "\n",
    "nums = [3,4,-1,1]\n",
    "firstMissingPositive(nums)"
   ]
  },
  {
   "cell_type": "code",
   "execution_count": 20,
   "metadata": {},
   "outputs": [
    {
     "name": "stdout",
     "output_type": "stream",
     "text": [
      "[0, 2, 1]\n",
      "1\n",
      "1\n",
      "1\n"
     ]
    },
    {
     "data": {
      "text/plain": [
       "2"
      ]
     },
     "execution_count": 20,
     "metadata": {},
     "output_type": "execute_result"
    }
   ],
   "source": [
    "# def firstMissingPositive(nums):\n",
    "import heapq\n",
    "nums = [1,2,0]\n",
    "heapq.heapify(nums)\n",
    "\n",
    "print(nums)\n",
    "small = 1\n",
    "for i in range(len(nums)):\n",
    "    print(small)\n",
    "    if nums[i]<=0:\n",
    "        continue\n",
    "    \n",
    "    if nums[i] <= small:\n",
    "        small = nums[i]+1\n",
    "small"
   ]
  },
  {
   "cell_type": "code",
   "execution_count": 25,
   "metadata": {},
   "outputs": [
    {
     "name": "stdout",
     "output_type": "stream",
     "text": [
      "[3, 4, -1, 1]\n",
      "[1, -1, 3, 4]\n"
     ]
    },
    {
     "data": {
      "text/plain": [
       "2"
      ]
     },
     "execution_count": 25,
     "metadata": {},
     "output_type": "execute_result"
    }
   ],
   "source": [
    "def firstMissingPositive(nums):\n",
    "    print(nums)\n",
    "    i, n = 0, len(nums)\n",
    "    while i < n:\n",
    "        j = nums[i] - 1\n",
    "        if nums[i] > 0 and nums[i] <= n and nums[i] != nums[j]:\n",
    "            nums[i], nums[j] = nums[j], nums[i]  # swap\n",
    "        else:\n",
    "            i += 1\n",
    "            \n",
    "    print(nums)\n",
    "    for i in range(n):\n",
    "        if nums[i] != i + 1:\n",
    "            return i + 1\n",
    "\n",
    "    return len(nums) + 1\n",
    "\n",
    "nums=[3,4,-1,1]\n",
    "firstMissingPositive(nums)"
   ]
  },
  {
   "cell_type": "code",
   "execution_count": 27,
   "metadata": {},
   "outputs": [
    {
     "data": {
      "text/plain": [
       "43"
      ]
     },
     "execution_count": 27,
     "metadata": {},
     "output_type": "execute_result"
    }
   ],
   "source": [
    "int(\"0043\")"
   ]
  },
  {
   "cell_type": "markdown",
   "metadata": {},
   "source": [
    "# Count number of dominoes"
   ]
  },
  {
   "cell_type": "code",
   "execution_count": 50,
   "metadata": {},
   "outputs": [
    {
     "data": {
      "text/plain": [
       "1"
      ]
     },
     "execution_count": 50,
     "metadata": {},
     "output_type": "execute_result"
    }
   ],
   "source": [
    "class Solution:\n",
    "    def numEquivDominoPairs(self, dominoes):\n",
    "        \n",
    "        \"\"\"\n",
    "        using hash map\n",
    "        \"\"\"\n",
    "        d = {}\n",
    "        c = 0\n",
    "        for i in range(len(dominoes)):\n",
    "            \n",
    "            key = (dominoes[i][0], dominoes[i][1])\n",
    "            \n",
    "            if (key not in d) and (dominoes[i][1], dominoes[i][0]) not in d:\n",
    "                d[key] = (dominoes[1],dominoes[0])\n",
    "            else:\n",
    "                c += 1 \n",
    "\n",
    "\n",
    "        return c\n",
    "    \n",
    "dominoes = [[1,2],\n",
    "            [2,1],\n",
    "            [3,4],\n",
    "            [5,6]]\n",
    "\n",
    "Solution().numEquivDominoPairs(dominoes)            "
   ]
  },
  {
   "cell_type": "code",
   "execution_count": 60,
   "metadata": {},
   "outputs": [],
   "source": [
    "from collections import deque\n",
    "class movingAvg:\n",
    "    def __init__(self, size):\n",
    "        self.size = sizea\n",
    "        self.window = deque([])\n",
    "    \n",
    "    def movingAverage(self, val):\n",
    "        \n",
    "        self.window.append(val)\n",
    "        \n",
    "        if len(self.window) > self.size:\n",
    "            self.window.popleft()\n",
    "            \n",
    "        avg = 0\n",
    "        for val in self.window:\n",
    "            avg += val\n",
    "            \n",
    "        avg = avg/len(self.window)\n",
    "        print(self.window, avg)\n",
    "            \n",
    "        \n",
    "        return avg\n",
    "    \n",
    "        \n",
    "        \n",
    "init = movingAvg(3)"
   ]
  },
  {
   "cell_type": "code",
   "execution_count": 65,
   "metadata": {},
   "outputs": [
    {
     "name": "stdout",
     "output_type": "stream",
     "text": [
      "deque([3, 4, 6]) 4.333333333333333\n"
     ]
    },
    {
     "data": {
      "text/plain": [
       "4.333333333333333"
      ]
     },
     "execution_count": 65,
     "metadata": {},
     "output_type": "execute_result"
    }
   ],
   "source": [
    "init.movingAverage(6)"
   ]
  },
  {
   "cell_type": "code",
   "execution_count": 112,
   "metadata": {},
   "outputs": [
    {
     "name": "stdout",
     "output_type": "stream",
     "text": [
      "2-th largest value 8 after adding 86\n",
      "2-th largest value 8 after adding 8\n",
      "2-th largest value 86 after adding 89\n",
      "2-th largest value 89 after adding 98\n",
      "2-th largest value 89 after adding 46\n"
     ]
    }
   ],
   "source": [
    "from collections import deque\n",
    "import heapq\n",
    "class KthLargest:\n",
    "    \n",
    "\n",
    "    def __init__(self, k, nums):\n",
    "        self.k = k\n",
    "        self.nums = nums\n",
    "        \n",
    "        heapq.heapify(self.nums)\n",
    "        \n",
    "        # pop all elements until size of array is of window size\n",
    "        while len(self.nums) > self.k:\n",
    "            heapq.heappop(self.nums)\n",
    "        \n",
    "        \n",
    "    def add(self, val: int) -> int:\n",
    "        \n",
    "        \"\"\"\n",
    "        O(nlon) -> Append val to nums list and sort. Return kth from last\n",
    "        O(logn) -> use max heap. Return kth largest\n",
    "        \"\"\"\n",
    "        \n",
    "        # Push the new value to heap\n",
    "        heapq.heappush(self.nums, val)\n",
    "        \n",
    "        # check the size of heap is not more the self.k\n",
    "        if len(self.nums) > self.k:\n",
    "            heapq.heappop(self.nums)\n",
    "        \n",
    "        \n",
    "        return self.nums[-self.k]\n",
    "    \n",
    "    \n",
    "import numpy as np\n",
    "k = 2\n",
    "inp_array = [4, 5, 8, 2]\n",
    "stream = KthLargest(k, inp_array)\n",
    "for _ in range(5):\n",
    "    # Add a random value to the heap\n",
    "    rdm_val = np.random.randint(1,100)\n",
    "    kth_val = stream.add(rdm_val)\n",
    "    print(f\"{k}-th largest value {kth_val} after adding {rdm_val}\")\n"
   ]
  },
  {
   "cell_type": "markdown",
   "metadata": {},
   "source": [
    "# Number of Equivalent Domino Pairs"
   ]
  },
  {
   "cell_type": "code",
   "execution_count": 134,
   "metadata": {},
   "outputs": [
    {
     "data": {
      "text/plain": [
       "4"
      ]
     },
     "execution_count": 134,
     "metadata": {},
     "output_type": "execute_result"
    }
   ],
   "source": [
    "class Solution:\n",
    "    def numEquivDominoPairs(self, dominoes) -> int:\n",
    "        d = {}\n",
    "        c = 0\n",
    "        for i in range(len(dominoes)):\n",
    "            \n",
    "            key = (dominoes[i][0], dominoes[i][1])\n",
    "            \n",
    "            if key in d:\n",
    "                d[key] += 1\n",
    "            \n",
    "            elif (key[1], key[0]) in d:\n",
    "                d[(key[1], key[0])] += 1\n",
    "            \n",
    "            else:\n",
    "                d[key] = 1\n",
    "        pairs = 0\n",
    "        for k,v in d.items():\n",
    "            if v > 1:\n",
    "                pairs += v*(v-1)//2\n",
    "                \n",
    "        return pairs\n",
    "        \n",
    "dominoes = [[1,1],[2,2],[1,1],[1,2],[1,2],[1,1]]\n",
    "Solution().numEquivDominoPairs(dominoes)"
   ]
  },
  {
   "cell_type": "code",
   "execution_count": 149,
   "metadata": {
    "scrolled": true
   },
   "outputs": [
    {
     "data": {
      "text/plain": [
       "[1, 3]"
      ]
     },
     "execution_count": 149,
     "metadata": {},
     "output_type": "execute_result"
    }
   ],
   "source": [
    "def pair_with_targetsum(arr, target_sum):\n",
    "\n",
    "    d = {}\n",
    "    for i in range(len(arr)):\n",
    "        diff = target_sum - arr[i]\n",
    "        \n",
    "        if arr[i] not in d:\n",
    "            d[diff] = i\n",
    "        else:\n",
    "            return [d[arr[i]], i]\n",
    "\n",
    "arr = [1, 2, 3, 4, 6]\n",
    "target_sum = 6\n",
    "pair_with_targetsum(arr, target_sum)"
   ]
  },
  {
   "cell_type": "code",
   "execution_count": 178,
   "metadata": {},
   "outputs": [
    {
     "data": {
      "text/plain": [
       "[2, 3, 6, 9]"
      ]
     },
     "execution_count": 178,
     "metadata": {},
     "output_type": "execute_result"
    }
   ],
   "source": [
    "def remove_duplicates(arr):\n",
    "    \n",
    "    k = 0 # next non duplicate\n",
    "    i=1\n",
    "    \n",
    "    while i<len(arr):\n",
    "        if arr[i]!=arr[k]:\n",
    "            k+=1\n",
    "            arr[i], arr[k] = arr[k], arr[i]\n",
    "        i+=1\n",
    "        \n",
    "    return arr[:k+1]\n",
    "\n",
    "arr = [2, 3, 3, 3, 6, 9, 9]\n",
    "remove_duplicates(arr)"
   ]
  },
  {
   "cell_type": "code",
   "execution_count": null,
   "metadata": {},
   "outputs": [],
   "source": []
  }
 ],
 "metadata": {
  "kernelspec": {
   "display_name": "Python [conda env:chi] *",
   "language": "python",
   "name": "conda-env-chi-py"
  },
  "language_info": {
   "codemirror_mode": {
    "name": "ipython",
    "version": 3
   },
   "file_extension": ".py",
   "mimetype": "text/x-python",
   "name": "python",
   "nbconvert_exporter": "python",
   "pygments_lexer": "ipython3",
   "version": "3.7.5"
  }
 },
 "nbformat": 4,
 "nbformat_minor": 4
}
