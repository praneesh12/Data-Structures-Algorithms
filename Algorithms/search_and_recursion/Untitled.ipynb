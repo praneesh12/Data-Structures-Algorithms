{
 "cells": [
  {
   "cell_type": "markdown",
   "metadata": {},
   "source": [
    "# Binary Search and Recursive Basics"
   ]
  },
  {
   "cell_type": "code",
   "execution_count": 34,
   "metadata": {},
   "outputs": [
    {
     "data": {
      "text/plain": [
       "6"
      ]
     },
     "execution_count": 34,
     "metadata": {},
     "output_type": "execute_result"
    }
   ],
   "source": [
    "def peak(nums):\n",
    "    \n",
    "    \"binary search\"\n",
    "    l = 0\n",
    "    r = len(nums)-1\n",
    "    while l<r:\n",
    "        mid = (l+r)//2\n",
    "        if nums[mid] > nums[mid+1]:\n",
    "            r = mid\n",
    "        else:\n",
    "            l = mid+1\n",
    "            \n",
    "    return arr[l]\n",
    "            \n",
    "\n",
    "arr = [2,4,3,6,1]   \n",
    "peak(arr)"
   ]
  },
  {
   "cell_type": "code",
   "execution_count": null,
   "metadata": {},
   "outputs": [],
   "source": []
  }
 ],
 "metadata": {
  "kernelspec": {
   "display_name": "Python [conda env:chi] *",
   "language": "python",
   "name": "conda-env-chi-py"
  },
  "language_info": {
   "codemirror_mode": {
    "name": "ipython",
    "version": 3
   },
   "file_extension": ".py",
   "mimetype": "text/x-python",
   "name": "python",
   "nbconvert_exporter": "python",
   "pygments_lexer": "ipython3",
   "version": "3.7.5"
  }
 },
 "nbformat": 4,
 "nbformat_minor": 4
}
