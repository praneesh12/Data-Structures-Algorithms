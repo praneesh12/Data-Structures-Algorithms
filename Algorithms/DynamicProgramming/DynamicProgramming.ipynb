{
 "cells": [
  {
   "cell_type": "markdown",
   "metadata": {},
   "source": [
    "# Dynamic Programming"
   ]
  },
  {
   "cell_type": "code",
   "execution_count": 1,
   "metadata": {},
   "outputs": [
    {
     "data": {
      "text/plain": [
       "[-1, 1, 0, -1, 1, -1, 1, 0, -1, 1, 0, -1, 1]"
      ]
     },
     "execution_count": 1,
     "metadata": {},
     "output_type": "execute_result"
    }
   ],
   "source": [
    "# Fibonnaci Numbers\n",
    "\n",
    "def fib(num):\n",
    "    lookup_table = [-1]*(num+1)\n",
    "    \n",
    "    if lookup_table[num] == -1:\n",
    "        \n",
    "        #base \n",
    "        if num <= 1:\n",
    "            lookup_table[num]=num\n",
    "        else:\n",
    "            lookup_table = fib(num-1)+fib(num-2)\n",
    "    return lookup_table\n",
    "        \n",
    "\n",
    "\n",
    "fib(5)"
   ]
  },
  {
   "cell_type": "markdown",
   "metadata": {},
   "source": [
    "# Min Edit Distance"
   ]
  },
  {
   "cell_type": "code",
   "execution_count": null,
   "metadata": {},
   "outputs": [],
   "source": [
    "s = 'stay'\n",
    "t = 'play'\n",
    "dp = []\n",
    "for i in range(len(s)+1):\n",
    "    dp.append([0])\n",
    "    for j in range(len(t)):\n",
    "        dp[i].append(0)\n",
    "\n",
    "        \n",
    "# Initialize first row and columne\n",
    "# Cost of inserting empty \"\" --> source and target rspt\n",
    "\n",
    "for i in range(1,len(s)+1):\n",
    "    dp[0][i]=dp[0][i-1]+1\n",
    "    \n",
    "for j in range(1,len(t)+1):\n",
    "    dp[j][0]=dp[j-1][0]+1\n",
    "\n",
    "    \n",
    "minCost = 0\n",
    "for i in range(1,len(s)+1):\n",
    "    for j in range(1,len(s)+1):\n",
    "        \n",
    "        \n",
    "        delCost = dp[i-1][j]+1\n",
    "        insCost = dp[i][j-1]+1\n",
    "        \n",
    "        if s[i-1]==t[j-1]:\n",
    "            repCost = dp[i-1][j-1]\n",
    "        else:\n",
    "            repCost = dp[i-1][j-1]+2\n",
    "            \n",
    "        minCost = min(delCost, insCost, repCost)\n",
    "        dp[i][j] = minCost\n"
   ]
  },
  {
   "cell_type": "code",
   "execution_count": 80,
   "metadata": {},
   "outputs": [],
   "source": [
    "class Solution:\n",
    "    def minDistance(self, word1: str, word2: str) -> int:\n",
    "        \n",
    "        # Initialize dp array of size m+1,n+1\n",
    "        m=len(word1)\n",
    "        n=len(word2)\n",
    "        \n",
    "        if n * m == 0:\n",
    "            return n + m\n",
    "        \n",
    "        dp = [ [0] * (m + 1) for _ in range(n + 1)]\n",
    "\n",
    "        for i in range(n + 1):\n",
    "            dp[i][0] = i\n",
    "        for j in range(m + 1):\n",
    "            dp[0][j] = j\n",
    "\n",
    "        for i in range(1, n+1):\n",
    "            for j in range(1, m+1):\n",
    "\n",
    "                ins_cost = dp[i-1][j]+1\n",
    "                del_cost = dp[i][j-1]+1\n",
    "                rep_cost = dp[i-1][j-1]\n",
    "                \n",
    "                if word1[j-1]!=word2[i-1]:\n",
    "                    rep_cost = dp[i-1][j-1]+1\n",
    "\n",
    "                dp[i][j] = min(ins_cost, del_cost, rep_cost)  \n",
    "            \n",
    "        \n",
    "        return dp[n][m]"
   ]
  },
  {
   "cell_type": "code",
   "execution_count": 81,
   "metadata": {},
   "outputs": [
    {
     "data": {
      "text/plain": [
       "3"
      ]
     },
     "execution_count": 81,
     "metadata": {},
     "output_type": "execute_result"
    }
   ],
   "source": [
    "word1 = \"horse\"\n",
    "word2 = \"ros\"\n",
    "Sol = Solution()\n",
    "Sol.minDistance(word1, word2)"
   ]
  },
  {
   "cell_type": "code",
   "execution_count": 67,
   "metadata": {},
   "outputs": [],
   "source": [
    "dp = []\n",
    "word1 = \"horse\"\n",
    "word2 = \"ros\"\n",
    "\n",
    "d = [ [0] * (m + 1) for _ in range(n + 1)]\n",
    "        \n",
    "# init boundaries\n",
    "for i in range(n + 1):\n",
    "    d[i][0] = i\n",
    "for j in range(m + 1):\n",
    "    d[0][j] = j"
   ]
  },
  {
   "cell_type": "code",
   "execution_count": 54,
   "metadata": {},
   "outputs": [
    {
     "data": {
      "text/plain": [
       "[[0, 1, 2, 3, 4, 5],\n",
       " [1, 0, 0, 0, 0, 0],\n",
       " [2, 0, 0, 0, 0, 0],\n",
       " [3, 0, 0, 0, 0, 0]]"
      ]
     },
     "execution_count": 54,
     "metadata": {},
     "output_type": "execute_result"
    }
   ],
   "source": [
    "d"
   ]
  },
  {
   "cell_type": "markdown",
   "metadata": {},
   "source": [
    "# Fibonnacci Series"
   ]
  },
  {
   "cell_type": "code",
   "execution_count": 16,
   "metadata": {},
   "outputs": [
    {
     "name": "stdout",
     "output_type": "stream",
     "text": [
      "CPU times: user 2 µs, sys: 0 ns, total: 2 µs\n",
      "Wall time: 5.25 µs\n"
     ]
    },
    {
     "data": {
      "text/plain": [
       "102334155"
      ]
     },
     "execution_count": 16,
     "metadata": {},
     "output_type": "execute_result"
    }
   ],
   "source": [
    "%time\n",
    "def fib(num):\n",
    "    \n",
    "    if num<=1:\n",
    "        \n",
    "        return num\n",
    "    else:\n",
    "        return fib(num-1) + fib(num-2)\n",
    "\n",
    "\n",
    "\n",
    "\n",
    "def fibStack(num):\n",
    "    seen={}\n",
    "    for i in range(num):\n",
    "        if i <= 1:\n",
    "            if num not in seen:\n",
    "                seen[i] = 1\n",
    "        else:\n",
    "            seen[i] = seen[i-1] + seen[i-2]\n",
    "        \n",
    "    return seen[num-1]\n",
    "\n",
    "fib(40)"
   ]
  },
  {
   "cell_type": "code",
   "execution_count": 17,
   "metadata": {},
   "outputs": [
    {
     "name": "stdout",
     "output_type": "stream",
     "text": [
      "CPU times: user 2 µs, sys: 0 ns, total: 2 µs\n",
      "Wall time: 4.29 µs\n"
     ]
    },
    {
     "data": {
      "text/plain": [
       "102334155"
      ]
     },
     "execution_count": 17,
     "metadata": {},
     "output_type": "execute_result"
    }
   ],
   "source": [
    "%time\n",
    "fibStack(40)"
   ]
  },
  {
   "cell_type": "code",
   "execution_count": 19,
   "metadata": {},
   "outputs": [
    {
     "name": "stdout",
     "output_type": "stream",
     "text": [
      "CPU times: user 2 µs, sys: 1e+03 ns, total: 3 µs\n",
      "Wall time: 4.77 µs\n"
     ]
    },
    {
     "data": {
      "text/plain": [
       "102334155"
      ]
     },
     "execution_count": 19,
     "metadata": {},
     "output_type": "execute_result"
    }
   ],
   "source": [
    "%time\n",
    "def fib_seen(num, seen):\n",
    "    \n",
    "    if seen[num] == -1:\n",
    "        \n",
    "        if num <= 1:\n",
    "            seen[num] = num\n",
    "        else:\n",
    "            return fib_seen(num-1, seen) + fib_seen(num-2, seen)\n",
    "    \n",
    "    return seen[num]\n",
    "\n",
    "num = 40\n",
    "seen = [-1]*(num+1)\n",
    "fib_seen(num,seen)"
   ]
  },
  {
   "cell_type": "code",
   "execution_count": 35,
   "metadata": {},
   "outputs": [
    {
     "name": "stdout",
     "output_type": "stream",
     "text": [
      "CPU times: user 2 µs, sys: 0 ns, total: 2 µs\n",
      "Wall time: 4.77 µs\n"
     ]
    },
    {
     "data": {
      "text/plain": [
       "354224848179261915075"
      ]
     },
     "execution_count": 35,
     "metadata": {},
     "output_type": "execute_result"
    }
   ],
   "source": [
    "%time\n",
    "def fibOpt(num):\n",
    "    \n",
    "    \n",
    "    first = 1 # fib(0)\n",
    "    second = 1 # fib(1)\n",
    "    \n",
    "    if num <= 1:\n",
    "        return 1\n",
    "    \n",
    "    for i in range(2, num):    \n",
    "        curr = first+second\n",
    "        first = second\n",
    "        second = curr\n",
    "    \n",
    "    return curr\n",
    "        \n",
    "fibOpt(100)"
   ]
  },
  {
   "cell_type": "markdown",
   "metadata": {},
   "source": [
    "# 0/1 Knapsack Problem"
   ]
  },
  {
   "cell_type": "code",
   "execution_count": 25,
   "metadata": {},
   "outputs": [
    {
     "name": "stdout",
     "output_type": "stream",
     "text": [
      "Total knapsack profit =  22\n",
      "Total knapsack profit =  17\n"
     ]
    }
   ],
   "source": [
    "profits = [1, 6, 4, 10, 8]  # The values of the jewelry\n",
    "weights = [1, 3, 2, 5, 4]  # The weight of each\n",
    "# print(\"Total knapsack profit = \", knap_sack(profits, len(profits), weights, 7))\n",
    "# print(\"Total knapsack profit = \", knap_sack(profits, len(profits), weights, 6))\n",
    "\n",
    "def knapsack_recursive(profits, weights, max_cap, current):\n",
    "    \n",
    "    if (max_cap <= 0) or (current >= len(profits)) or (current < 0):\n",
    "        return 0\n",
    "    \n",
    "    profit1 = 0\n",
    "    if weights[current] <= max_cap :\n",
    "        profit1 = profits[current] + knapsack_recursive(\n",
    "                                                        profits,\n",
    "                                                        weights,\n",
    "                                                        max_cap-weights[current],\n",
    "                                                        current+1\n",
    "                                                       )\n",
    "    profit2 = knapsack_recursive(\n",
    "                          profits, \n",
    "                          weights,\n",
    "                          max_cap,\n",
    "                          current+1)\n",
    "    \n",
    "    return max(profit1, profit2)\n",
    "\n",
    "def knapsack(profits, weights, max_cap):\n",
    "    \n",
    "    return knapsack_recursive(profits, weights, max_cap, 0)\n",
    "\n",
    "\n",
    "\n",
    "       \n",
    "\n",
    "profits = [1, 6, 10, 16]  # The values of the jewelry\n",
    "weights = [1, 2, 3, 5]  # The weight of each\n",
    "print(\"Total knapsack profit = \", knapsack(profits, weights, 7))\n",
    "print(\"Total knapsack profit = \", knapsack(profits, weights, 6))"
   ]
  },
  {
   "cell_type": "code",
   "execution_count": 34,
   "metadata": {},
   "outputs": [
    {
     "data": {
      "text/plain": [
       "0"
      ]
     },
     "execution_count": 34,
     "metadata": {},
     "output_type": "execute_result"
    }
   ],
   "source": [
    "weights = [1, 3, 2, 5, 4]\n",
    "profits = [1, 6, 4, 10, 8]\n",
    "\n",
    "\n",
    "def knapsackHelper(weights, profits, cap, seen, current):\n",
    "    \n",
    "    if current<0 or current>=len(profits) or cap<=0:\n",
    "        return 0\n",
    "    \n",
    "    profit1 = 0\n",
    "    if seen[current] == -1:\n",
    "        if weights[current] < cap:\n",
    "            seen[current] = profits[current]\n",
    "            profi1t1 = profits[current] + knapsackHelper(weights,\n",
    "                                                         profits,\n",
    "                                                         cap-profits[current],\n",
    "                                                         seen,\n",
    "                                                         current+1)\n",
    "            \n",
    "    profit2 = knapsackHelper(weights, profits, cap, seen, current+1)\n",
    "    \n",
    "    return max(profit1, profit2)\n",
    "    \n",
    "        \n",
    "\n",
    "def knapsackOptimized(weights, profits, cap):\n",
    "    seen = [-1]*(len(profits)+1)\n",
    "    return knapsackHelper(weights, profits, cap, seen, 0)\n",
    "\n",
    "knapsackOptimized(weights, profits, 8)"
   ]
  },
  {
   "cell_type": "code",
   "execution_count": 13,
   "metadata": {},
   "outputs": [
    {
     "data": {
      "text/plain": [
       "29"
      ]
     },
     "execution_count": 13,
     "metadata": {},
     "output_type": "execute_result"
    }
   ],
   "source": []
  },
  {
   "cell_type": "code",
   "execution_count": 62,
   "metadata": {},
   "outputs": [],
   "source": [
    "def reverse_recursive(s,start,end):\n",
    "    if start<end:\n",
    "        s[start],s[end]=s[end],s[start]\n",
    "        reverse_recursive(s, start+1, end-1)\n",
    "\n",
    "\n",
    "def reverse(s):\n",
    "    s = list(s)\n",
    "    return reverse_recursive(s, 0, len(s)-1)\n",
    "    \n",
    "\n",
    "s = \"I am a machine learning engineer at FAANG\"\n",
    "reverse(s)"
   ]
  },
  {
   "cell_type": "code",
   "execution_count": 42,
   "metadata": {},
   "outputs": [
    {
     "name": "stdout",
     "output_type": "stream",
     "text": [
      "GNAAF ta reenigne gninrael enihcam a ma I"
     ]
    }
   ],
   "source": [
    "for i in range(len(s)):\n",
    "    print(s[len(s)-1-i], end='')\n",
    "    "
   ]
  },
  {
   "cell_type": "code",
   "execution_count": null,
   "metadata": {},
   "outputs": [],
   "source": []
  }
 ],
 "metadata": {
  "kernelspec": {
   "display_name": "Python [conda env:chi] *",
   "language": "python",
   "name": "conda-env-chi-py"
  },
  "language_info": {
   "codemirror_mode": {
    "name": "ipython",
    "version": 3
   },
   "file_extension": ".py",
   "mimetype": "text/x-python",
   "name": "python",
   "nbconvert_exporter": "python",
   "pygments_lexer": "ipython3",
   "version": "3.7.5"
  }
 },
 "nbformat": 4,
 "nbformat_minor": 4
}
